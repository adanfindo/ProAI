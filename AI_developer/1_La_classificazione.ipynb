{
 "cells": [
  {
   "cell_type": "markdown",
   "id": "e2171cc7",
   "metadata": {},
   "source": [
    "Genera un modello di ML in grado di riconoscere i tumori al seno maligni usando i dati a disposizione. \n",
    "<br>\n",
    "Nello specifico, devi creare un modello di classificazione che :\n",
    "1. ha un accuracy sul test set di almeno 0.96\n",
    "2. ha un AUC sul test set di almeno 0.98 \n",
    "3. ha un recall di 1 (0 false negative)\n",
    "\n",
    "<br>\n",
    "\n",
    "una volta fatto, fornisci la classificazione per i nuovi dati ed esporta in un file:\n",
    "- id paziente\n",
    "- classificazione modello\n",
    "- prob associata alla classificazione"
   ]
  },
  {
   "cell_type": "code",
   "execution_count": 37,
   "id": "2ec9a7fc",
   "metadata": {},
   "outputs": [],
   "source": [
    "import pandas as pd\n",
    "import numpy as np\n",
    "import seaborn as sns\n",
    "import matplotlib.pyplot as plt\n",
    "from sklearn.model_selection import train_test_split\n",
    "from sklearn.preprocessing import StandardScaler\n",
    "from sklearn.linear_model import LogisticRegression\n",
    "from sklearn.metrics import confusion_matrix, classification_report\n"
   ]
  },
  {
   "cell_type": "code",
   "execution_count": 38,
   "id": "dd89ef1a",
   "metadata": {},
   "outputs": [],
   "source": [
    "random_seed = 0"
   ]
  },
  {
   "cell_type": "markdown",
   "id": "ec800af5",
   "metadata": {},
   "source": [
    "# import dataset"
   ]
  },
  {
   "cell_type": "code",
   "execution_count": 39,
   "id": "c04b43fa",
   "metadata": {},
   "outputs": [
    {
     "data": {
      "text/html": [
       "<div>\n",
       "<style scoped>\n",
       "    .dataframe tbody tr th:only-of-type {\n",
       "        vertical-align: middle;\n",
       "    }\n",
       "\n",
       "    .dataframe tbody tr th {\n",
       "        vertical-align: top;\n",
       "    }\n",
       "\n",
       "    .dataframe thead th {\n",
       "        text-align: right;\n",
       "    }\n",
       "</style>\n",
       "<table border=\"1\" class=\"dataframe\">\n",
       "  <thead>\n",
       "    <tr style=\"text-align: right;\">\n",
       "      <th></th>\n",
       "      <th>ID number</th>\n",
       "      <th>diagnosis</th>\n",
       "      <th>radius mean</th>\n",
       "      <th>texture mean</th>\n",
       "      <th>perimeter mean</th>\n",
       "      <th>area mean</th>\n",
       "      <th>smoothness mean</th>\n",
       "      <th>compactness mean</th>\n",
       "      <th>concavity mean</th>\n",
       "      <th>concave points mean</th>\n",
       "      <th>...</th>\n",
       "      <th>radius worst</th>\n",
       "      <th>texture worst</th>\n",
       "      <th>perimeter worst</th>\n",
       "      <th>area worst</th>\n",
       "      <th>smoothness worstse</th>\n",
       "      <th>compactness worst</th>\n",
       "      <th>concavity worst</th>\n",
       "      <th>concave points worst</th>\n",
       "      <th>symmetry worst</th>\n",
       "      <th>fractal dimension worst</th>\n",
       "    </tr>\n",
       "  </thead>\n",
       "  <tbody>\n",
       "    <tr>\n",
       "      <th>0</th>\n",
       "      <td>842517</td>\n",
       "      <td>M</td>\n",
       "      <td>20.57</td>\n",
       "      <td>17.77</td>\n",
       "      <td>132.90</td>\n",
       "      <td>1326.0</td>\n",
       "      <td>0.08474</td>\n",
       "      <td>0.07864</td>\n",
       "      <td>0.0869</td>\n",
       "      <td>0.07017</td>\n",
       "      <td>...</td>\n",
       "      <td>24.99</td>\n",
       "      <td>23.41</td>\n",
       "      <td>158.80</td>\n",
       "      <td>1956.0</td>\n",
       "      <td>0.1238</td>\n",
       "      <td>0.1866</td>\n",
       "      <td>0.2416</td>\n",
       "      <td>0.1860</td>\n",
       "      <td>0.2750</td>\n",
       "      <td>0.08902</td>\n",
       "    </tr>\n",
       "    <tr>\n",
       "      <th>1</th>\n",
       "      <td>84300903</td>\n",
       "      <td>M</td>\n",
       "      <td>19.69</td>\n",
       "      <td>21.25</td>\n",
       "      <td>130.00</td>\n",
       "      <td>1203.0</td>\n",
       "      <td>0.10960</td>\n",
       "      <td>0.15990</td>\n",
       "      <td>0.1974</td>\n",
       "      <td>0.12790</td>\n",
       "      <td>...</td>\n",
       "      <td>23.57</td>\n",
       "      <td>25.53</td>\n",
       "      <td>152.50</td>\n",
       "      <td>1709.0</td>\n",
       "      <td>0.1444</td>\n",
       "      <td>0.4245</td>\n",
       "      <td>0.4504</td>\n",
       "      <td>0.2430</td>\n",
       "      <td>0.3613</td>\n",
       "      <td>0.08758</td>\n",
       "    </tr>\n",
       "    <tr>\n",
       "      <th>2</th>\n",
       "      <td>84348301</td>\n",
       "      <td>M</td>\n",
       "      <td>11.42</td>\n",
       "      <td>20.38</td>\n",
       "      <td>77.58</td>\n",
       "      <td>386.1</td>\n",
       "      <td>0.14250</td>\n",
       "      <td>0.28390</td>\n",
       "      <td>0.2414</td>\n",
       "      <td>0.10520</td>\n",
       "      <td>...</td>\n",
       "      <td>14.91</td>\n",
       "      <td>26.50</td>\n",
       "      <td>98.87</td>\n",
       "      <td>567.7</td>\n",
       "      <td>0.2098</td>\n",
       "      <td>0.8663</td>\n",
       "      <td>0.6869</td>\n",
       "      <td>0.2575</td>\n",
       "      <td>0.6638</td>\n",
       "      <td>0.17300</td>\n",
       "    </tr>\n",
       "    <tr>\n",
       "      <th>3</th>\n",
       "      <td>84358402</td>\n",
       "      <td>M</td>\n",
       "      <td>20.29</td>\n",
       "      <td>14.34</td>\n",
       "      <td>135.10</td>\n",
       "      <td>1297.0</td>\n",
       "      <td>0.10030</td>\n",
       "      <td>0.13280</td>\n",
       "      <td>0.1980</td>\n",
       "      <td>0.10430</td>\n",
       "      <td>...</td>\n",
       "      <td>22.54</td>\n",
       "      <td>16.67</td>\n",
       "      <td>152.20</td>\n",
       "      <td>1575.0</td>\n",
       "      <td>0.1374</td>\n",
       "      <td>0.2050</td>\n",
       "      <td>0.4000</td>\n",
       "      <td>0.1625</td>\n",
       "      <td>0.2364</td>\n",
       "      <td>0.07678</td>\n",
       "    </tr>\n",
       "    <tr>\n",
       "      <th>4</th>\n",
       "      <td>843786</td>\n",
       "      <td>M</td>\n",
       "      <td>12.45</td>\n",
       "      <td>15.70</td>\n",
       "      <td>82.57</td>\n",
       "      <td>477.1</td>\n",
       "      <td>0.12780</td>\n",
       "      <td>0.17000</td>\n",
       "      <td>0.1578</td>\n",
       "      <td>0.08089</td>\n",
       "      <td>...</td>\n",
       "      <td>15.47</td>\n",
       "      <td>23.75</td>\n",
       "      <td>103.40</td>\n",
       "      <td>741.6</td>\n",
       "      <td>0.1791</td>\n",
       "      <td>0.5249</td>\n",
       "      <td>0.5355</td>\n",
       "      <td>0.1741</td>\n",
       "      <td>0.3985</td>\n",
       "      <td>0.12440</td>\n",
       "    </tr>\n",
       "  </tbody>\n",
       "</table>\n",
       "<p>5 rows × 32 columns</p>\n",
       "</div>"
      ],
      "text/plain": [
       "   ID number diagnosis  radius mean  texture mean  perimeter mean  area mean  \\\n",
       "0     842517         M        20.57         17.77          132.90     1326.0   \n",
       "1   84300903         M        19.69         21.25          130.00     1203.0   \n",
       "2   84348301         M        11.42         20.38           77.58      386.1   \n",
       "3   84358402         M        20.29         14.34          135.10     1297.0   \n",
       "4     843786         M        12.45         15.70           82.57      477.1   \n",
       "\n",
       "   smoothness mean  compactness mean  concavity mean  concave points mean  \\\n",
       "0          0.08474           0.07864          0.0869              0.07017   \n",
       "1          0.10960           0.15990          0.1974              0.12790   \n",
       "2          0.14250           0.28390          0.2414              0.10520   \n",
       "3          0.10030           0.13280          0.1980              0.10430   \n",
       "4          0.12780           0.17000          0.1578              0.08089   \n",
       "\n",
       "   ...  radius worst  texture worst  perimeter worst  area worst  \\\n",
       "0  ...         24.99          23.41           158.80      1956.0   \n",
       "1  ...         23.57          25.53           152.50      1709.0   \n",
       "2  ...         14.91          26.50            98.87       567.7   \n",
       "3  ...         22.54          16.67           152.20      1575.0   \n",
       "4  ...         15.47          23.75           103.40       741.6   \n",
       "\n",
       "   smoothness worstse  compactness worst  concavity worst  \\\n",
       "0              0.1238             0.1866           0.2416   \n",
       "1              0.1444             0.4245           0.4504   \n",
       "2              0.2098             0.8663           0.6869   \n",
       "3              0.1374             0.2050           0.4000   \n",
       "4              0.1791             0.5249           0.5355   \n",
       "\n",
       "   concave points worst  symmetry worst  fractal dimension worst  \n",
       "0                0.1860          0.2750                  0.08902  \n",
       "1                0.2430          0.3613                  0.08758  \n",
       "2                0.2575          0.6638                  0.17300  \n",
       "3                0.1625          0.2364                  0.07678  \n",
       "4                0.1741          0.3985                  0.12440  \n",
       "\n",
       "[5 rows x 32 columns]"
      ]
     },
     "execution_count": 39,
     "metadata": {},
     "output_type": "execute_result"
    }
   ],
   "source": [
    "\n",
    "BASE_URL=\"https://raw.githubusercontent.com/ProfAI/machine-learning-fondamenti/main/datasets/\"\n",
    "df = pd.read_csv(BASE_URL+\"breast_cancer.csv\")\n",
    "df.head()"
   ]
  },
  {
   "cell_type": "code",
   "execution_count": 40,
   "id": "725a0bd8",
   "metadata": {},
   "outputs": [
    {
     "data": {
      "text/plain": [
       "ID number                  563\n",
       "diagnosis                  563\n",
       "radius mean                563\n",
       "texture mean               563\n",
       "perimeter mean             563\n",
       "area mean                  563\n",
       "smoothness mean            563\n",
       "compactness mean           563\n",
       "concavity mean             563\n",
       "concave points mean        563\n",
       "symmetry mean              563\n",
       "fractal dimension mean     563\n",
       "radius se                  563\n",
       "texture se                 563\n",
       "perimeter mean.1           563\n",
       "area se                    563\n",
       "smoothness se              563\n",
       "compactness se             563\n",
       "concavity se               563\n",
       "concave points se          563\n",
       "symmetry se                563\n",
       "fractal dimension se       563\n",
       "radius worst               563\n",
       "texture worst              563\n",
       "perimeter worst            563\n",
       "area worst                 563\n",
       "smoothness worstse         563\n",
       "compactness worst          563\n",
       "concavity worst            563\n",
       "concave points worst       563\n",
       "symmetry worst             563\n",
       "fractal dimension worst    563\n",
       "dtype: int64"
      ]
     },
     "execution_count": 40,
     "metadata": {},
     "output_type": "execute_result"
    }
   ],
   "source": [
    "df.count()"
   ]
  },
  {
   "cell_type": "code",
   "execution_count": 41,
   "id": "3ab456e6",
   "metadata": {},
   "outputs": [],
   "source": [
    "df = df.drop(columns=['ID number'])"
   ]
  },
  {
   "cell_type": "markdown",
   "id": "038947e3",
   "metadata": {},
   "source": [
    "dataset sbilanciato verso i tumori benigni, 62.7 % vs 37.3 %"
   ]
  },
  {
   "cell_type": "code",
   "execution_count": 42,
   "id": "08f1cfab",
   "metadata": {},
   "outputs": [
    {
     "data": {
      "text/plain": [
       "B    62.699822\n",
       "M    37.300178\n",
       "Name: diagnosis, dtype: float64"
      ]
     },
     "execution_count": 42,
     "metadata": {},
     "output_type": "execute_result"
    }
   ],
   "source": [
    "df['diagnosis'].value_counts()/len(df)*100"
   ]
  },
  {
   "cell_type": "code",
   "execution_count": 43,
   "id": "216b09af",
   "metadata": {},
   "outputs": [],
   "source": [
    "map_dict = {'M': 1, 'B': 0}\n",
    "df['diagnosis'] = df['diagnosis'].map(lambda x: map_dict[x])"
   ]
  },
  {
   "cell_type": "code",
   "execution_count": 44,
   "id": "ef70b6c5",
   "metadata": {},
   "outputs": [
    {
     "data": {
      "text/html": [
       "<div>\n",
       "<style scoped>\n",
       "    .dataframe tbody tr th:only-of-type {\n",
       "        vertical-align: middle;\n",
       "    }\n",
       "\n",
       "    .dataframe tbody tr th {\n",
       "        vertical-align: top;\n",
       "    }\n",
       "\n",
       "    .dataframe thead th {\n",
       "        text-align: right;\n",
       "    }\n",
       "</style>\n",
       "<table border=\"1\" class=\"dataframe\">\n",
       "  <thead>\n",
       "    <tr style=\"text-align: right;\">\n",
       "      <th></th>\n",
       "      <th>diagnosis</th>\n",
       "      <th>radius mean</th>\n",
       "      <th>texture mean</th>\n",
       "      <th>perimeter mean</th>\n",
       "      <th>area mean</th>\n",
       "      <th>smoothness mean</th>\n",
       "      <th>compactness mean</th>\n",
       "      <th>concavity mean</th>\n",
       "      <th>concave points mean</th>\n",
       "      <th>symmetry mean</th>\n",
       "      <th>...</th>\n",
       "      <th>radius worst</th>\n",
       "      <th>texture worst</th>\n",
       "      <th>perimeter worst</th>\n",
       "      <th>area worst</th>\n",
       "      <th>smoothness worstse</th>\n",
       "      <th>compactness worst</th>\n",
       "      <th>concavity worst</th>\n",
       "      <th>concave points worst</th>\n",
       "      <th>symmetry worst</th>\n",
       "      <th>fractal dimension worst</th>\n",
       "    </tr>\n",
       "  </thead>\n",
       "  <tbody>\n",
       "    <tr>\n",
       "      <th>0</th>\n",
       "      <td>1</td>\n",
       "      <td>20.57</td>\n",
       "      <td>17.77</td>\n",
       "      <td>132.90</td>\n",
       "      <td>1326.0</td>\n",
       "      <td>0.08474</td>\n",
       "      <td>0.07864</td>\n",
       "      <td>0.0869</td>\n",
       "      <td>0.07017</td>\n",
       "      <td>0.1812</td>\n",
       "      <td>...</td>\n",
       "      <td>24.99</td>\n",
       "      <td>23.41</td>\n",
       "      <td>158.80</td>\n",
       "      <td>1956.0</td>\n",
       "      <td>0.1238</td>\n",
       "      <td>0.1866</td>\n",
       "      <td>0.2416</td>\n",
       "      <td>0.1860</td>\n",
       "      <td>0.2750</td>\n",
       "      <td>0.08902</td>\n",
       "    </tr>\n",
       "    <tr>\n",
       "      <th>1</th>\n",
       "      <td>1</td>\n",
       "      <td>19.69</td>\n",
       "      <td>21.25</td>\n",
       "      <td>130.00</td>\n",
       "      <td>1203.0</td>\n",
       "      <td>0.10960</td>\n",
       "      <td>0.15990</td>\n",
       "      <td>0.1974</td>\n",
       "      <td>0.12790</td>\n",
       "      <td>0.2069</td>\n",
       "      <td>...</td>\n",
       "      <td>23.57</td>\n",
       "      <td>25.53</td>\n",
       "      <td>152.50</td>\n",
       "      <td>1709.0</td>\n",
       "      <td>0.1444</td>\n",
       "      <td>0.4245</td>\n",
       "      <td>0.4504</td>\n",
       "      <td>0.2430</td>\n",
       "      <td>0.3613</td>\n",
       "      <td>0.08758</td>\n",
       "    </tr>\n",
       "    <tr>\n",
       "      <th>2</th>\n",
       "      <td>1</td>\n",
       "      <td>11.42</td>\n",
       "      <td>20.38</td>\n",
       "      <td>77.58</td>\n",
       "      <td>386.1</td>\n",
       "      <td>0.14250</td>\n",
       "      <td>0.28390</td>\n",
       "      <td>0.2414</td>\n",
       "      <td>0.10520</td>\n",
       "      <td>0.2597</td>\n",
       "      <td>...</td>\n",
       "      <td>14.91</td>\n",
       "      <td>26.50</td>\n",
       "      <td>98.87</td>\n",
       "      <td>567.7</td>\n",
       "      <td>0.2098</td>\n",
       "      <td>0.8663</td>\n",
       "      <td>0.6869</td>\n",
       "      <td>0.2575</td>\n",
       "      <td>0.6638</td>\n",
       "      <td>0.17300</td>\n",
       "    </tr>\n",
       "    <tr>\n",
       "      <th>3</th>\n",
       "      <td>1</td>\n",
       "      <td>20.29</td>\n",
       "      <td>14.34</td>\n",
       "      <td>135.10</td>\n",
       "      <td>1297.0</td>\n",
       "      <td>0.10030</td>\n",
       "      <td>0.13280</td>\n",
       "      <td>0.1980</td>\n",
       "      <td>0.10430</td>\n",
       "      <td>0.1809</td>\n",
       "      <td>...</td>\n",
       "      <td>22.54</td>\n",
       "      <td>16.67</td>\n",
       "      <td>152.20</td>\n",
       "      <td>1575.0</td>\n",
       "      <td>0.1374</td>\n",
       "      <td>0.2050</td>\n",
       "      <td>0.4000</td>\n",
       "      <td>0.1625</td>\n",
       "      <td>0.2364</td>\n",
       "      <td>0.07678</td>\n",
       "    </tr>\n",
       "    <tr>\n",
       "      <th>4</th>\n",
       "      <td>1</td>\n",
       "      <td>12.45</td>\n",
       "      <td>15.70</td>\n",
       "      <td>82.57</td>\n",
       "      <td>477.1</td>\n",
       "      <td>0.12780</td>\n",
       "      <td>0.17000</td>\n",
       "      <td>0.1578</td>\n",
       "      <td>0.08089</td>\n",
       "      <td>0.2087</td>\n",
       "      <td>...</td>\n",
       "      <td>15.47</td>\n",
       "      <td>23.75</td>\n",
       "      <td>103.40</td>\n",
       "      <td>741.6</td>\n",
       "      <td>0.1791</td>\n",
       "      <td>0.5249</td>\n",
       "      <td>0.5355</td>\n",
       "      <td>0.1741</td>\n",
       "      <td>0.3985</td>\n",
       "      <td>0.12440</td>\n",
       "    </tr>\n",
       "  </tbody>\n",
       "</table>\n",
       "<p>5 rows × 31 columns</p>\n",
       "</div>"
      ],
      "text/plain": [
       "   diagnosis  radius mean  texture mean  perimeter mean  area mean  \\\n",
       "0          1        20.57         17.77          132.90     1326.0   \n",
       "1          1        19.69         21.25          130.00     1203.0   \n",
       "2          1        11.42         20.38           77.58      386.1   \n",
       "3          1        20.29         14.34          135.10     1297.0   \n",
       "4          1        12.45         15.70           82.57      477.1   \n",
       "\n",
       "   smoothness mean  compactness mean  concavity mean  concave points mean  \\\n",
       "0          0.08474           0.07864          0.0869              0.07017   \n",
       "1          0.10960           0.15990          0.1974              0.12790   \n",
       "2          0.14250           0.28390          0.2414              0.10520   \n",
       "3          0.10030           0.13280          0.1980              0.10430   \n",
       "4          0.12780           0.17000          0.1578              0.08089   \n",
       "\n",
       "   symmetry mean  ...  radius worst  texture worst  perimeter worst  \\\n",
       "0         0.1812  ...         24.99          23.41           158.80   \n",
       "1         0.2069  ...         23.57          25.53           152.50   \n",
       "2         0.2597  ...         14.91          26.50            98.87   \n",
       "3         0.1809  ...         22.54          16.67           152.20   \n",
       "4         0.2087  ...         15.47          23.75           103.40   \n",
       "\n",
       "   area worst  smoothness worstse  compactness worst  concavity worst  \\\n",
       "0      1956.0              0.1238             0.1866           0.2416   \n",
       "1      1709.0              0.1444             0.4245           0.4504   \n",
       "2       567.7              0.2098             0.8663           0.6869   \n",
       "3      1575.0              0.1374             0.2050           0.4000   \n",
       "4       741.6              0.1791             0.5249           0.5355   \n",
       "\n",
       "   concave points worst  symmetry worst  fractal dimension worst  \n",
       "0                0.1860          0.2750                  0.08902  \n",
       "1                0.2430          0.3613                  0.08758  \n",
       "2                0.2575          0.6638                  0.17300  \n",
       "3                0.1625          0.2364                  0.07678  \n",
       "4                0.1741          0.3985                  0.12440  \n",
       "\n",
       "[5 rows x 31 columns]"
      ]
     },
     "execution_count": 44,
     "metadata": {},
     "output_type": "execute_result"
    }
   ],
   "source": [
    "df.head()"
   ]
  },
  {
   "cell_type": "markdown",
   "id": "1ad03ebd",
   "metadata": {},
   "source": [
    "### Creazione del modello "
   ]
  },
  {
   "cell_type": "code",
   "execution_count": 45,
   "id": "39d8f77a",
   "metadata": {},
   "outputs": [],
   "source": [
    "X = df.drop(columns=['diagnosis'], axis=1).values\n",
    "y = df['diagnosis'].values\n",
    "\n",
    "X_train, X_test, y_train, y_test = train_test_split(X, y, test_size=0.3, random_state=random_seed)"
   ]
  },
  {
   "cell_type": "code",
   "execution_count": 46,
   "id": "6b56cfb7",
   "metadata": {},
   "outputs": [
    {
     "data": {
      "text/plain": [
       "((394, 30), (169, 30), (394,), (169,))"
      ]
     },
     "execution_count": 46,
     "metadata": {},
     "output_type": "execute_result"
    }
   ],
   "source": [
    "X_train.shape, X_test.shape, y_train.shape, y_test.shape"
   ]
  },
  {
   "cell_type": "code",
   "execution_count": 47,
   "id": "bc29a8e9",
   "metadata": {},
   "outputs": [],
   "source": [
    "ss = StandardScaler()\n",
    "X_train = ss.fit_transform(X_train)\n",
    "X_test = ss.transform(X_test)"
   ]
  },
  {
   "cell_type": "code",
   "execution_count": 48,
   "id": "b1d2cc85",
   "metadata": {},
   "outputs": [
    {
     "data": {
      "text/html": [
       "<style>#sk-container-id-3 {color: black;}#sk-container-id-3 pre{padding: 0;}#sk-container-id-3 div.sk-toggleable {background-color: white;}#sk-container-id-3 label.sk-toggleable__label {cursor: pointer;display: block;width: 100%;margin-bottom: 0;padding: 0.3em;box-sizing: border-box;text-align: center;}#sk-container-id-3 label.sk-toggleable__label-arrow:before {content: \"▸\";float: left;margin-right: 0.25em;color: #696969;}#sk-container-id-3 label.sk-toggleable__label-arrow:hover:before {color: black;}#sk-container-id-3 div.sk-estimator:hover label.sk-toggleable__label-arrow:before {color: black;}#sk-container-id-3 div.sk-toggleable__content {max-height: 0;max-width: 0;overflow: hidden;text-align: left;background-color: #f0f8ff;}#sk-container-id-3 div.sk-toggleable__content pre {margin: 0.2em;color: black;border-radius: 0.25em;background-color: #f0f8ff;}#sk-container-id-3 input.sk-toggleable__control:checked~div.sk-toggleable__content {max-height: 200px;max-width: 100%;overflow: auto;}#sk-container-id-3 input.sk-toggleable__control:checked~label.sk-toggleable__label-arrow:before {content: \"▾\";}#sk-container-id-3 div.sk-estimator input.sk-toggleable__control:checked~label.sk-toggleable__label {background-color: #d4ebff;}#sk-container-id-3 div.sk-label input.sk-toggleable__control:checked~label.sk-toggleable__label {background-color: #d4ebff;}#sk-container-id-3 input.sk-hidden--visually {border: 0;clip: rect(1px 1px 1px 1px);clip: rect(1px, 1px, 1px, 1px);height: 1px;margin: -1px;overflow: hidden;padding: 0;position: absolute;width: 1px;}#sk-container-id-3 div.sk-estimator {font-family: monospace;background-color: #f0f8ff;border: 1px dotted black;border-radius: 0.25em;box-sizing: border-box;margin-bottom: 0.5em;}#sk-container-id-3 div.sk-estimator:hover {background-color: #d4ebff;}#sk-container-id-3 div.sk-parallel-item::after {content: \"\";width: 100%;border-bottom: 1px solid gray;flex-grow: 1;}#sk-container-id-3 div.sk-label:hover label.sk-toggleable__label {background-color: #d4ebff;}#sk-container-id-3 div.sk-serial::before {content: \"\";position: absolute;border-left: 1px solid gray;box-sizing: border-box;top: 0;bottom: 0;left: 50%;z-index: 0;}#sk-container-id-3 div.sk-serial {display: flex;flex-direction: column;align-items: center;background-color: white;padding-right: 0.2em;padding-left: 0.2em;position: relative;}#sk-container-id-3 div.sk-item {position: relative;z-index: 1;}#sk-container-id-3 div.sk-parallel {display: flex;align-items: stretch;justify-content: center;background-color: white;position: relative;}#sk-container-id-3 div.sk-item::before, #sk-container-id-3 div.sk-parallel-item::before {content: \"\";position: absolute;border-left: 1px solid gray;box-sizing: border-box;top: 0;bottom: 0;left: 50%;z-index: -1;}#sk-container-id-3 div.sk-parallel-item {display: flex;flex-direction: column;z-index: 1;position: relative;background-color: white;}#sk-container-id-3 div.sk-parallel-item:first-child::after {align-self: flex-end;width: 50%;}#sk-container-id-3 div.sk-parallel-item:last-child::after {align-self: flex-start;width: 50%;}#sk-container-id-3 div.sk-parallel-item:only-child::after {width: 0;}#sk-container-id-3 div.sk-dashed-wrapped {border: 1px dashed gray;margin: 0 0.4em 0.5em 0.4em;box-sizing: border-box;padding-bottom: 0.4em;background-color: white;}#sk-container-id-3 div.sk-label label {font-family: monospace;font-weight: bold;display: inline-block;line-height: 1.2em;}#sk-container-id-3 div.sk-label-container {text-align: center;}#sk-container-id-3 div.sk-container {/* jupyter's `normalize.less` sets `[hidden] { display: none; }` but bootstrap.min.css set `[hidden] { display: none !important; }` so we also need the `!important` here to be able to override the default hidden behavior on the sphinx rendered scikit-learn.org. See: https://github.com/scikit-learn/scikit-learn/issues/21755 */display: inline-block !important;position: relative;}#sk-container-id-3 div.sk-text-repr-fallback {display: none;}</style><div id=\"sk-container-id-3\" class=\"sk-top-container\"><div class=\"sk-text-repr-fallback\"><pre>LogisticRegression(class_weight=&#x27;balanced&#x27;)</pre><b>In a Jupyter environment, please rerun this cell to show the HTML representation or trust the notebook. <br />On GitHub, the HTML representation is unable to render, please try loading this page with nbviewer.org.</b></div><div class=\"sk-container\" hidden><div class=\"sk-item\"><div class=\"sk-estimator sk-toggleable\"><input class=\"sk-toggleable__control sk-hidden--visually\" id=\"sk-estimator-id-3\" type=\"checkbox\" checked><label for=\"sk-estimator-id-3\" class=\"sk-toggleable__label sk-toggleable__label-arrow\">LogisticRegression</label><div class=\"sk-toggleable__content\"><pre>LogisticRegression(class_weight=&#x27;balanced&#x27;)</pre></div></div></div></div></div>"
      ],
      "text/plain": [
       "LogisticRegression(class_weight='balanced')"
      ]
     },
     "execution_count": 48,
     "metadata": {},
     "output_type": "execute_result"
    }
   ],
   "source": [
    "lr = LogisticRegression(class_weight='balanced')\n",
    "lr.fit(X_train, y_train)"
   ]
  },
  {
   "cell_type": "markdown",
   "id": "61a0fe6d",
   "metadata": {},
   "source": [
    "## Valutazione del modello "
   ]
  },
  {
   "cell_type": "code",
   "execution_count": 49,
   "id": "cdb4a89c",
   "metadata": {},
   "outputs": [],
   "source": [
    "y_pred_train = lr.predict(X_train)\n",
    "y_proba_train = lr.predict_proba(X_train)\n",
    "y_pred_test = lr.predict(X_test)\n",
    "y_proba_test = lr.predict_proba(X_test)"
   ]
  },
  {
   "cell_type": "code",
   "execution_count": 50,
   "id": "20cd7a71",
   "metadata": {},
   "outputs": [
    {
     "name": "stdout",
     "output_type": "stream",
     "text": [
      "              precision    recall  f1-score   support\n",
      "\n",
      "           0       0.98      0.99      0.99       248\n",
      "           1       0.98      0.97      0.98       146\n",
      "\n",
      "    accuracy                           0.98       394\n",
      "   macro avg       0.98      0.98      0.98       394\n",
      "weighted avg       0.98      0.98      0.98       394\n",
      "\n"
     ]
    }
   ],
   "source": [
    "train_report = classification_report(y_train, y_pred_train)\n",
    "print(train_report)\n"
   ]
  },
  {
   "cell_type": "markdown",
   "id": "a25d692d",
   "metadata": {},
   "source": [
    "Cosa fa np.where(y_proba_train[:,1] > 0.25, 1, 0)?\n",
    "- y_proba_train[:,1]: estrae solo la colonna delle probabilità della classe 1.\n",
    "- np.where(... > 0.25, 1, 0): per ogni probabilità, assegna 1 se è maggiore di 0.25, altrimenti 0.\n",
    "\n",
    "Quindi:\n",
    "\n",
    "Se la probabilità che un esempio sia della classe 1 è maggiore di 25%, lo classifichi come 1.\n",
    "\n"
   ]
  },
  {
   "cell_type": "markdown",
   "id": "b80c26c6",
   "metadata": {},
   "source": [
    "modifica della treshold per ottenere 0 falsi negativi"
   ]
  },
  {
   "cell_type": "markdown",
   "id": "bf95a9ad",
   "metadata": {},
   "source": [
    "y[:,1] sta per, prendi tutte le righe di y ma solo la seconda colonna (indice 1)"
   ]
  },
  {
   "cell_type": "code",
   "execution_count": null,
   "id": "2b6842d1",
   "metadata": {},
   "outputs": [],
   "source": [
    "y_pred_train = np.where(y_proba_train[:,1]>.25,1,0) \n",
    "y_pred_test = np.where(y_proba_test[:,1]>.25, 1, 0)"
   ]
  },
  {
   "cell_type": "code",
   "execution_count": 52,
   "id": "7f64dbbd",
   "metadata": {},
   "outputs": [
    {
     "name": "stdout",
     "output_type": "stream",
     "text": [
      "              precision    recall  f1-score   support\n",
      "\n",
      "           0       1.00      0.94      0.97       105\n",
      "           1       0.91      1.00      0.96        64\n",
      "\n",
      "    accuracy                           0.96       169\n",
      "   macro avg       0.96      0.97      0.96       169\n",
      "weighted avg       0.97      0.96      0.96       169\n",
      "\n"
     ]
    }
   ],
   "source": [
    "test_report = classification_report(y_test, y_pred_test)\n",
    "print(test_report)\n"
   ]
  },
  {
   "cell_type": "code",
   "execution_count": 60,
   "id": "058130b4",
   "metadata": {},
   "outputs": [],
   "source": [
    "def plot_confusion_matrix(y_true, y_pred, labels=[\"Negative\", \"Positive\"], show_precision_recall = False):\n",
    "\n",
    "    cm = confusion_matrix(y_true, y_pred)\n",
    "\n",
    "    df_cm = pd.DataFrame(cm, index = labels,\n",
    "                         columns=(\"Predicted\" + labels[0], \"Predicted\" + labels[1]))\n",
    "    sns.heatmap(df_cm, annot=True, fmt=\"g\")\n",
    "\n",
    "    if show_precision_recall:\n",
    "        plt.text(0, -0.1, f\"Precision: {cm[1][1]/cm[1][1]+cm[0][1]}\")\n",
    "        plt.text(1, -0.1, f\"Recall: {cm[1][1]/cm[1][1]+cm[1][0]}\")\n",
    "\n"
   ]
  },
  {
   "cell_type": "code",
   "execution_count": 61,
   "id": "05a2ca6f",
   "metadata": {},
   "outputs": [
    {
     "data": {
      "image/png": "[encoded data removed]",
      "text/plain": [
       "<Figure size 640x480 with 2 Axes>"
      ]
     },
     "metadata": {},
     "output_type": "display_data"
    }
   ],
   "source": [
    "plot_confusion_matrix(y_train, y_pred_train)"
   ]
  },
  {
   "cell_type": "code",
   "execution_count": 62,
   "id": "4648a75f",
   "metadata": {},
   "outputs": [
    {
     "data": {
      "image/png": "[encoded data removed]",
      "text/plain": [
       "<Figure size 640x480 with 2 Axes>"
      ]
     },
     "metadata": {},
     "output_type": "display_data"
    }
   ],
   "source": [
    "plot_confusion_matrix(y_test, y_pred_test, show_precision_recall=True)"
   ]
  },
  {
   "cell_type": "code",
   "execution_count": 69,
   "id": "59a48351",
   "metadata": {},
   "outputs": [],
   "source": [
    "from sklearn.metrics import RocCurveDisplay\n"
   ]
  },
  {
   "cell_type": "code",
   "execution_count": null,
   "id": "4d1a930d",
   "metadata": {},
   "outputs": [
    {
     "data": {
      "text/plain": [
       "<sklearn.metrics._plot.roc_curve.RocCurveDisplay at 0x30310a350>"
      ]
     },
     "execution_count": 73,
     "metadata": {},
     "output_type": "execute_result"
    },
    {
     "data": {
      "image/png": "[encoded data removed]",
      "text/plain": [
       "<Figure size 640x480 with 1 Axes>"
      ]
     },
     "metadata": {},
     "output_type": "display_data"
    }
   ],
   "source": [
    "RocCurveDisplay.from_estimator(lr, X_train, y_train, name=\"Cancer Classifier\")"
   ]
  },
  {
   "cell_type": "code",
   "execution_count": 74,
   "id": "382321bc",
   "metadata": {},
   "outputs": [
    {
     "data": {
      "text/plain": [
       "<sklearn.metrics._plot.roc_curve.RocCurveDisplay at 0x3030c1350>"
      ]
     },
     "execution_count": 74,
     "metadata": {},
     "output_type": "execute_result"
    },
    {
     "data": {
      "image/png": "[encoded data removed]",
      "text/plain": [
       "<Figure size 640x480 with 1 Axes>"
      ]
     },
     "metadata": {},
     "output_type": "display_data"
    }
   ],
   "source": [
    "RocCurveDisplay.from_estimator(lr, X_test, y_test, name=\"Cancer Classifier\")"
   ]
  },
  {
   "cell_type": "markdown",
   "id": "c604012b",
   "metadata": {},
   "source": [
    "## Classifichiamo i nuovi dati"
   ]
  },
  {
   "cell_type": "code",
   "execution_count": 77,
   "id": "958dd489",
   "metadata": {},
   "outputs": [
    {
     "data": {
      "text/html": [
       "<div>\n",
       "<style scoped>\n",
       "    .dataframe tbody tr th:only-of-type {\n",
       "        vertical-align: middle;\n",
       "    }\n",
       "\n",
       "    .dataframe tbody tr th {\n",
       "        vertical-align: top;\n",
       "    }\n",
       "\n",
       "    .dataframe thead th {\n",
       "        text-align: right;\n",
       "    }\n",
       "</style>\n",
       "<table border=\"1\" class=\"dataframe\">\n",
       "  <thead>\n",
       "    <tr style=\"text-align: right;\">\n",
       "      <th></th>\n",
       "      <th>ID number</th>\n",
       "      <th>radius mean</th>\n",
       "      <th>texture mean</th>\n",
       "      <th>perimeter mean</th>\n",
       "      <th>area mean</th>\n",
       "      <th>smoothness mean</th>\n",
       "      <th>compactness mean</th>\n",
       "      <th>concavity mean</th>\n",
       "      <th>concave points mean</th>\n",
       "      <th>symmetry mean</th>\n",
       "      <th>...</th>\n",
       "      <th>radius worst</th>\n",
       "      <th>texture worst</th>\n",
       "      <th>perimeter worst</th>\n",
       "      <th>area worst</th>\n",
       "      <th>smoothness worstse</th>\n",
       "      <th>compactness worst</th>\n",
       "      <th>concavity worst</th>\n",
       "      <th>concave points worst</th>\n",
       "      <th>symmetry worst</th>\n",
       "      <th>fractal dimension worst</th>\n",
       "    </tr>\n",
       "  </thead>\n",
       "  <tbody>\n",
       "    <tr>\n",
       "      <th>0</th>\n",
       "      <td>842302</td>\n",
       "      <td>17.990</td>\n",
       "      <td>10.38</td>\n",
       "      <td>122.80</td>\n",
       "      <td>1001.0</td>\n",
       "      <td>0.11840</td>\n",
       "      <td>0.27760</td>\n",
       "      <td>0.30010</td>\n",
       "      <td>0.14710</td>\n",
       "      <td>0.2419</td>\n",
       "      <td>...</td>\n",
       "      <td>25.38</td>\n",
       "      <td>17.33</td>\n",
       "      <td>184.60</td>\n",
       "      <td>2019.0</td>\n",
       "      <td>0.1622</td>\n",
       "      <td>0.66560</td>\n",
       "      <td>0.71190</td>\n",
       "      <td>0.26540</td>\n",
       "      <td>0.4601</td>\n",
       "      <td>0.11890</td>\n",
       "    </tr>\n",
       "    <tr>\n",
       "      <th>1</th>\n",
       "      <td>8510426</td>\n",
       "      <td>13.540</td>\n",
       "      <td>14.36</td>\n",
       "      <td>87.46</td>\n",
       "      <td>566.3</td>\n",
       "      <td>0.09779</td>\n",
       "      <td>0.08129</td>\n",
       "      <td>0.06664</td>\n",
       "      <td>0.04781</td>\n",
       "      <td>0.1885</td>\n",
       "      <td>...</td>\n",
       "      <td>15.11</td>\n",
       "      <td>19.26</td>\n",
       "      <td>99.70</td>\n",
       "      <td>711.2</td>\n",
       "      <td>0.1440</td>\n",
       "      <td>0.17730</td>\n",
       "      <td>0.23900</td>\n",
       "      <td>0.12880</td>\n",
       "      <td>0.2977</td>\n",
       "      <td>0.07259</td>\n",
       "    </tr>\n",
       "    <tr>\n",
       "      <th>2</th>\n",
       "      <td>8510653</td>\n",
       "      <td>13.080</td>\n",
       "      <td>15.71</td>\n",
       "      <td>85.63</td>\n",
       "      <td>520.0</td>\n",
       "      <td>0.10750</td>\n",
       "      <td>0.12700</td>\n",
       "      <td>0.04568</td>\n",
       "      <td>0.03110</td>\n",
       "      <td>0.1967</td>\n",
       "      <td>...</td>\n",
       "      <td>14.50</td>\n",
       "      <td>20.49</td>\n",
       "      <td>96.09</td>\n",
       "      <td>630.5</td>\n",
       "      <td>0.1312</td>\n",
       "      <td>0.27760</td>\n",
       "      <td>0.18900</td>\n",
       "      <td>0.07283</td>\n",
       "      <td>0.3184</td>\n",
       "      <td>0.08183</td>\n",
       "    </tr>\n",
       "    <tr>\n",
       "      <th>3</th>\n",
       "      <td>8510824</td>\n",
       "      <td>9.504</td>\n",
       "      <td>12.44</td>\n",
       "      <td>60.34</td>\n",
       "      <td>273.9</td>\n",
       "      <td>0.10240</td>\n",
       "      <td>0.06492</td>\n",
       "      <td>0.02956</td>\n",
       "      <td>0.02076</td>\n",
       "      <td>0.1815</td>\n",
       "      <td>...</td>\n",
       "      <td>10.23</td>\n",
       "      <td>15.66</td>\n",
       "      <td>65.13</td>\n",
       "      <td>314.9</td>\n",
       "      <td>0.1324</td>\n",
       "      <td>0.11480</td>\n",
       "      <td>0.08867</td>\n",
       "      <td>0.06227</td>\n",
       "      <td>0.2450</td>\n",
       "      <td>0.07773</td>\n",
       "    </tr>\n",
       "    <tr>\n",
       "      <th>4</th>\n",
       "      <td>859487</td>\n",
       "      <td>12.780</td>\n",
       "      <td>16.49</td>\n",
       "      <td>81.37</td>\n",
       "      <td>502.5</td>\n",
       "      <td>0.09831</td>\n",
       "      <td>0.05234</td>\n",
       "      <td>0.03653</td>\n",
       "      <td>0.02864</td>\n",
       "      <td>0.1590</td>\n",
       "      <td>...</td>\n",
       "      <td>13.46</td>\n",
       "      <td>19.76</td>\n",
       "      <td>85.67</td>\n",
       "      <td>554.9</td>\n",
       "      <td>0.1296</td>\n",
       "      <td>0.07061</td>\n",
       "      <td>0.10390</td>\n",
       "      <td>0.05882</td>\n",
       "      <td>0.2383</td>\n",
       "      <td>0.06410</td>\n",
       "    </tr>\n",
       "  </tbody>\n",
       "</table>\n",
       "<p>5 rows × 31 columns</p>\n",
       "</div>"
      ],
      "text/plain": [
       "   ID number  radius mean  texture mean  perimeter mean  area mean  \\\n",
       "0     842302       17.990         10.38          122.80     1001.0   \n",
       "1    8510426       13.540         14.36           87.46      566.3   \n",
       "2    8510653       13.080         15.71           85.63      520.0   \n",
       "3    8510824        9.504         12.44           60.34      273.9   \n",
       "4     859487       12.780         16.49           81.37      502.5   \n",
       "\n",
       "   smoothness mean  compactness mean  concavity mean  concave points mean  \\\n",
       "0          0.11840           0.27760         0.30010              0.14710   \n",
       "1          0.09779           0.08129         0.06664              0.04781   \n",
       "2          0.10750           0.12700         0.04568              0.03110   \n",
       "3          0.10240           0.06492         0.02956              0.02076   \n",
       "4          0.09831           0.05234         0.03653              0.02864   \n",
       "\n",
       "   symmetry mean  ...  radius worst  texture worst  perimeter worst  \\\n",
       "0         0.2419  ...         25.38          17.33           184.60   \n",
       "1         0.1885  ...         15.11          19.26            99.70   \n",
       "2         0.1967  ...         14.50          20.49            96.09   \n",
       "3         0.1815  ...         10.23          15.66            65.13   \n",
       "4         0.1590  ...         13.46          19.76            85.67   \n",
       "\n",
       "   area worst  smoothness worstse  compactness worst  concavity worst  \\\n",
       "0      2019.0              0.1622            0.66560          0.71190   \n",
       "1       711.2              0.1440            0.17730          0.23900   \n",
       "2       630.5              0.1312            0.27760          0.18900   \n",
       "3       314.9              0.1324            0.11480          0.08867   \n",
       "4       554.9              0.1296            0.07061          0.10390   \n",
       "\n",
       "   concave points worst  symmetry worst  fractal dimension worst  \n",
       "0               0.26540          0.4601                  0.11890  \n",
       "1               0.12880          0.2977                  0.07259  \n",
       "2               0.07283          0.3184                  0.08183  \n",
       "3               0.06227          0.2450                  0.07773  \n",
       "4               0.05882          0.2383                  0.06410  \n",
       "\n",
       "[5 rows x 31 columns]"
      ]
     },
     "execution_count": 77,
     "metadata": {},
     "output_type": "execute_result"
    }
   ],
   "source": [
    "df_pred = pd.read_csv(BASE_URL + \"breast_cancer_pred.csv\")\n",
    "df_pred.head()"
   ]
  },
  {
   "cell_type": "code",
   "execution_count": 78,
   "id": "cdbcee8a",
   "metadata": {},
   "outputs": [],
   "source": [
    "X = df_pred.drop([\"ID number\"], axis=1).values\n",
    "X = ss.transform(X)"
   ]
  },
  {
   "cell_type": "code",
   "execution_count": 79,
   "id": "086894c9",
   "metadata": {},
   "outputs": [],
   "source": [
    "y_proba_new_data = lr.predict_proba(X)\n",
    "y_pred_new_data = np.where(y_proba_new_data[:,1]>.25,1,0)"
   ]
  },
  {
   "cell_type": "code",
   "execution_count": 80,
   "id": "be5bff29",
   "metadata": {},
   "outputs": [
    {
     "data": {
      "text/plain": [
       "array([1, 0, 0, 0, 0])"
      ]
     },
     "execution_count": 80,
     "metadata": {},
     "output_type": "execute_result"
    }
   ],
   "source": [
    "y_pred_new_data"
   ]
  },
  {
   "cell_type": "markdown",
   "id": "790da08a",
   "metadata": {},
   "source": [
    "y_proba_new_data contiene due probabilità, una legata alla classe positiva e una legata alla classe negativa, devo prendere la massima (.max) per tutte le righe (axis = 1)"
   ]
  },
  {
   "cell_type": "code",
   "execution_count": 84,
   "id": "988c2716",
   "metadata": {},
   "outputs": [],
   "source": [
    "df_result = pd.DataFrame({\n",
    "    \"ID\": df_pred[\"ID number\"],\n",
    "    \"prediction\": y_pred_new_data,\n",
    "    \"prediction_proba\": y_proba_new_data.max(axis=1).round(4)\n",
    "})"
   ]
  },
  {
   "cell_type": "code",
   "execution_count": null,
   "id": "690b8bc8",
   "metadata": {},
   "outputs": [
    {
     "data": {
      "text/html": [
       "<div>\n",
       "<style scoped>\n",
       "    .dataframe tbody tr th:only-of-type {\n",
       "        vertical-align: middle;\n",
       "    }\n",
       "\n",
       "    .dataframe tbody tr th {\n",
       "        vertical-align: top;\n",
       "    }\n",
       "\n",
       "    .dataframe thead th {\n",
       "        text-align: right;\n",
       "    }\n",
       "</style>\n",
       "<table border=\"1\" class=\"dataframe\">\n",
       "  <thead>\n",
       "    <tr style=\"text-align: right;\">\n",
       "      <th></th>\n",
       "      <th>ID</th>\n",
       "      <th>prediction</th>\n",
       "      <th>prediction_proba</th>\n",
       "    </tr>\n",
       "  </thead>\n",
       "  <tbody>\n",
       "    <tr>\n",
       "      <th>0</th>\n",
       "      <td>842302</td>\n",
       "      <td>1</td>\n",
       "      <td>1.0000</td>\n",
       "    </tr>\n",
       "    <tr>\n",
       "      <th>1</th>\n",
       "      <td>8510426</td>\n",
       "      <td>0</td>\n",
       "      <td>0.8776</td>\n",
       "    </tr>\n",
       "    <tr>\n",
       "      <th>2</th>\n",
       "      <td>8510653</td>\n",
       "      <td>0</td>\n",
       "      <td>0.9951</td>\n",
       "    </tr>\n",
       "    <tr>\n",
       "      <th>3</th>\n",
       "      <td>8510824</td>\n",
       "      <td>0</td>\n",
       "      <td>0.9999</td>\n",
       "    </tr>\n",
       "    <tr>\n",
       "      <th>4</th>\n",
       "      <td>859487</td>\n",
       "      <td>0</td>\n",
       "      <td>0.9982</td>\n",
       "    </tr>\n",
       "  </tbody>\n",
       "</table>\n",
       "</div>"
      ],
      "text/plain": [
       "        ID  prediction  prediction_proba\n",
       "0   842302           1            1.0000\n",
       "1  8510426           0            0.8776\n",
       "2  8510653           0            0.9951\n",
       "3  8510824           0            0.9999\n",
       "4   859487           0            0.9982"
      ]
     },
     "execution_count": 85,
     "metadata": {},
     "output_type": "execute_result"
    }
   ],
   "source": [
    "df_result"
   ]
  }
 ],
 "metadata": {
  "kernelspec": {
   "display_name": "base",
   "language": "python",
   "name": "python3"
  },
  "language_info": {
   "codemirror_mode": {
    "name": "ipython",
    "version": 3
   },
   "file_extension": ".py",
   "mimetype": "text/x-python",
   "name": "python",
   "nbconvert_exporter": "python",
   "pygments_lexer": "ipython3",
   "version": "3.11.4"
  }
 },
 "nbformat": 4,
 "nbformat_minor": 5
}
