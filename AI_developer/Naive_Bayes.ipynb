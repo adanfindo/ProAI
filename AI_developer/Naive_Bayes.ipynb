{
 "cells": [
  {
   "cell_type": "markdown",
   "id": "5686d3d5",
   "metadata": {},
   "source": [
    "# Teoria"
   ]
  },
  {
   "cell_type": "markdown",
   "id": "51f75bdc",
   "metadata": {},
   "source": [
    "**Probabilità condizionata**"
   ]
  },
  {
   "cell_type": "markdown",
   "id": "fb200f62",
   "metadata": {},
   "source": [
    "misura della probabilità che un evento accada dato un altro evento già accaduto $P(B|A)$ probabilità che accada B dato A"
   ]
  },
  {
   "cell_type": "markdown",
   "id": "65b5ba0f",
   "metadata": {},
   "source": [
    "**Teorema di Bayes**"
   ]
  },
  {
   "cell_type": "markdown",
   "id": "5be44d42",
   "metadata": {},
   "source": [
    "$P(A|B) = \\frac{P(A \\bigcap B)}{P(B)} = \\frac{P(A)*P(B|A)}{P(B)}$ "
   ]
  },
  {
   "cell_type": "markdown",
   "id": "c17103d7",
   "metadata": {},
   "source": [
    "dove $P(A \\cap B)$ è la probabilità che avvengano entrambi"
   ]
  },
  {
   "cell_type": "markdown",
   "id": "33cc708d",
   "metadata": {},
   "source": [
    "**modelli e algoritmi naive bayes**"
   ]
  },
  {
   "cell_type": "markdown",
   "id": "294fbf8d",
   "metadata": {},
   "source": [
    "due importanti assunzioni su dati:\n",
    "- feature tra loro indipendenti\n",
    "- feature hanno tutte lo stesso peso"
   ]
  },
  {
   "cell_type": "markdown",
   "id": "a247fab7",
   "metadata": {},
   "source": [
    "$P(y|x_1,...,x_n)=\\frac{P(y)P(x_1,...,x_n)}{P(x_1,...,x_n)} = \\frac{P(y)P(x1|y)...P(x_n|y)}{P(x1)...P(x_n)} = \\frac{P(y)\\prod_{i=1}^n P(x_i|y)}{P(x1)...P(x_n)}$"
   ]
  },
  {
   "cell_type": "markdown",
   "id": "4b8fc9af",
   "metadata": {},
   "source": [
    "il denominatore è costante per qualunque valore di y, lo posso rimuovere usando il simbolo $\\propto$"
   ]
  },
  {
   "cell_type": "markdown",
   "id": "83ec078b",
   "metadata": {},
   "source": [
    "$P(y|x_1,...,x_n) \\propto P(y)\\prod_{i=1}^n P(x_i|y)$"
   ]
  },
  {
   "cell_type": "markdown",
   "id": "d31ccabe",
   "metadata": {},
   "source": [
    "Hai osservato in passato:\n",
    "\n",
    "La parola “gratis” compare spesso in email spam.\n",
    "\n",
    "La parola “ciao” compare più spesso nelle email normali.\n",
    "\n",
    "Ora arriva un’email con scritto:\n",
    "\n",
    "\"Ciao! Hai vinto un premio gratis!\"\n",
    "\n",
    "Il modello guarda le tre parole:\n",
    "ciao, vinto, gratis.\n",
    "\n",
    "E pensa:\n",
    "\n",
    "“Ciao” → di solito è in email non spam.\n",
    "\n",
    "“Gratis” → quasi sempre in email spam.\n",
    "\n",
    "“Vinto” → spesso in email spam.\n",
    "\n",
    "Allora conclude:\n",
    "\n",
    "\"Mmh... più probabilmente è spam, quindi la classifico così.\""
   ]
  },
  {
   "cell_type": "markdown",
   "id": "84979932",
   "metadata": {},
   "source": [
    "🧠 Perché si chiama Naive (ingenuo)?\n",
    "Perché fa finta che ogni parola sia indipendente dalle altre.\n",
    "Cioè pensa che il fatto che ci sia “gratis” non influenzi il fatto che ci sia anche “vinto”.\n",
    "\n",
    "Nella realtà questo non è vero, ma sorprendentemente... funziona lo stesso molto bene!"
   ]
  },
  {
   "cell_type": "markdown",
   "id": "cd46d9fa",
   "metadata": {},
   "source": [
    "**regola di classificazione** <br>\n",
    "$ y = \\argmax_y P(y) \\prod_{i=1}^n P(x_i|y)$"
   ]
  },
  {
   "cell_type": "markdown",
   "id": "b0c31558",
   "metadata": {},
   "source": [
    "- utilizzabile solo per dati discreti\n",
    "- tende all'overfitting (poiche si basa troppo su dati di training)"
   ]
  },
  {
   "cell_type": "markdown",
   "id": "15abf2e4",
   "metadata": {
    "vscode": {
     "languageId": "plaintext"
    }
   },
   "source": [
    "si fanno assunzioni su $P(x|y)$, i diversi algoritmi NB differiscono in questo"
   ]
  },
  {
   "cell_type": "markdown",
   "id": "cba69046",
   "metadata": {},
   "source": [
    "**Multinomial NB**"
   ]
  },
  {
   "cell_type": "markdown",
   "id": "d06e46f0",
   "metadata": {},
   "source": [
    "$P(x_i|y) = \\frac{N_{yi}+\\alpha}{N_y+\\alpha n}$"
   ]
  },
  {
   "cell_type": "markdown",
   "id": "97e0a351",
   "metadata": {},
   "source": [
    "- valido per dati multinomiali\n",
    "- $N_{yi}$ osservazioni della feaure i per la classe y\n",
    "- $N_y$ frequenza della feature i in tutte le obs\n",
    "- $\\alpha$ iperparam usato per evitare che si azzeri la prob se una feature non presente"
   ]
  },
  {
   "cell_type": "markdown",
   "id": "37967109",
   "metadata": {},
   "source": [
    "Supponiamo di avere un dataset con queste colonne:\n",
    "- feature_1: altezza\n",
    "- feature_2: peso\n",
    "- y: etichetta di classe (0 = sano, 1 = malato)\n",
    "\n",
    "<br>Se diciamo:\"Osservazioni della feature 1 nella classe y = 1\"\n",
    "<br>significa:\"I valori di altezza (feature_1) solo per i pazienti malati (cioè quelli con y = 1)\"."
   ]
  },
  {
   "cell_type": "markdown",
   "id": "6ff57408",
   "metadata": {},
   "source": [
    "**Gaussian NB**"
   ]
  },
  {
   "cell_type": "markdown",
   "id": "e1484443",
   "metadata": {},
   "source": [
    "$P(X_i|Y) = \\frac{1}{\\sqrt{2 \\pi\\sigma_y^2}}exp\\big(-\\frac{(x_i-\\mu_y)^2}{2 \\sigma_y^2})$"
   ]
  },
  {
   "cell_type": "markdown",
   "id": "35b111cc",
   "metadata": {},
   "source": [
    "- $\\sigma$ deviazione std\n",
    "- $\\mu$ media"
   ]
  },
  {
   "cell_type": "markdown",
   "id": "a384bd46",
   "metadata": {},
   "source": [
    "**Pro NB**\n",
    "- algoritmi veloci\n",
    "- poco soggetto alla dimensionalità \n",
    "<br> <br> <br>\n",
    "\n",
    "**contro NB**\n",
    "\n",
    "- assunzioni imporanti su dati \n",
    "- scarso come stimatore"
   ]
  },
  {
   "cell_type": "markdown",
   "id": "fc1c0aa6",
   "metadata": {},
   "source": []
  },
  {
   "cell_type": "markdown",
   "id": "21a46866",
   "metadata": {},
   "source": [
    "# Pratica"
   ]
  },
  {
   "cell_type": "code",
   "execution_count": 200,
   "id": "777c079d",
   "metadata": {},
   "outputs": [],
   "source": [
    "from sklearn.datasets import make_gaussian_quantiles, load_iris, make_classification\n",
    "from sklearn.model_selection import train_test_split\n",
    "from sklearn.preprocessing import MinMaxScaler\n",
    "from sklearn.linear_model import LogisticRegression\n",
    "from sklearn.metrics import log_loss, classification_report, confusion_matrix\n",
    "from matplotlib import pyplot as plt\n",
    "import numpy as np\n",
    "import pandas as pd"
   ]
  },
  {
   "cell_type": "code",
   "execution_count": 201,
   "id": "55408a6d",
   "metadata": {},
   "outputs": [],
   "source": [
    "RANDOM_SEED = 0"
   ]
  },
  {
   "cell_type": "markdown",
   "id": "a56c6620",
   "metadata": {},
   "source": [
    "## Gaussian NB"
   ]
  },
  {
   "cell_type": "markdown",
   "id": "be687839",
   "metadata": {},
   "source": [
    "assume che la distribuzione della probabilità $X|Y$ sia una gaussiana"
   ]
  },
  {
   "cell_type": "code",
   "execution_count": 202,
   "id": "032be9a0",
   "metadata": {},
   "outputs": [],
   "source": [
    "from sklearn.naive_bayes import GaussianNB"
   ]
  },
  {
   "cell_type": "code",
   "execution_count": 203,
   "id": "35c289ab",
   "metadata": {},
   "outputs": [
    {
     "data": {
      "text/plain": [
       "<matplotlib.collections.PathCollection at 0x31b2ee110>"
      ]
     },
     "execution_count": 203,
     "metadata": {},
     "output_type": "execute_result"
    },
    {
     "data": {
      "image/png": "[encoded data removed]",
      "text/plain": [
       "<Figure size 640x480 with 1 Axes>"
      ]
     },
     "metadata": {},
     "output_type": "display_data"
    }
   ],
   "source": [
    "X, y = make_gaussian_quantiles(\n",
    "    n_features=1,\n",
    "    n_classes=2,\n",
    "    random_state=RANDOM_SEED\n",
    ")\n",
    "\n",
    "plt.scatter(np.arange(X.shape[0]), X, c=y)"
   ]
  },
  {
   "cell_type": "markdown",
   "id": "83274239",
   "metadata": {},
   "source": [
    "proviamo una classificazione con logistica"
   ]
  },
  {
   "cell_type": "code",
   "execution_count": 204,
   "id": "2e138449",
   "metadata": {},
   "outputs": [
    {
     "data": {
      "text/plain": [
       "(70, 1)"
      ]
     },
     "execution_count": 204,
     "metadata": {},
     "output_type": "execute_result"
    }
   ],
   "source": [
    "X_train, X_test, y_train, y_test = train_test_split(X, y, test_size=.3, random_state=RANDOM_SEED)\n",
    "X_train.shape"
   ]
  },
  {
   "cell_type": "markdown",
   "id": "d21a8f86",
   "metadata": {},
   "source": [
    "score usato da metodo score è accuracy media che vale 0.37, se avessi lanciato una moneta (0.5) avrei fatto meglio, il modello è peggiore di un classificatore casuale"
   ]
  },
  {
   "cell_type": "code",
   "execution_count": 205,
   "id": "d2ad959f",
   "metadata": {},
   "outputs": [
    {
     "data": {
      "text/plain": [
       "0.36666666666666664"
      ]
     },
     "execution_count": 205,
     "metadata": {},
     "output_type": "execute_result"
    }
   ],
   "source": [
    "lr = LogisticRegression()\n",
    "lr.fit(X_train, y_train)\n",
    "lr.score(X_test, y_test)"
   ]
  },
  {
   "cell_type": "markdown",
   "id": "4df5a741",
   "metadata": {},
   "source": [
    "tutto al di sotto della retta viene classificato come classe negativa, ciò ch è sopra viene classificato come classe positiva"
   ]
  },
  {
   "cell_type": "code",
   "execution_count": 206,
   "id": "0f77e69f",
   "metadata": {},
   "outputs": [
    {
     "data": {
      "text/plain": [
       "[<matplotlib.lines.Line2D at 0x32cdd9490>,\n",
       " <matplotlib.lines.Line2D at 0x32cd2f950>]"
      ]
     },
     "execution_count": 206,
     "metadata": {},
     "output_type": "execute_result"
    },
    {
     "data": {
      "image/png": "[encoded data removed]",
      "text/plain": [
       "<Figure size 640x480 with 1 Axes>"
      ]
     },
     "metadata": {},
     "output_type": "display_data"
    }
   ],
   "source": [
    "a = np.arange(X.shape[0])\n",
    "plt.scatter(a, X, c=y)\n",
    "plt.plot(a, a*lr.coef_[0], + lr.intercept_)"
   ]
  },
  {
   "cell_type": "markdown",
   "id": "fb09359b",
   "metadata": {},
   "source": [
    "### testiamo il Gaussian"
   ]
  },
  {
   "cell_type": "code",
   "execution_count": 207,
   "id": "c84be5b4",
   "metadata": {},
   "outputs": [
    {
     "data": {
      "text/plain": [
       "0.9333333333333333"
      ]
     },
     "execution_count": 207,
     "metadata": {},
     "output_type": "execute_result"
    }
   ],
   "source": [
    "gnb = GaussianNB()\n",
    "gnb.fit(X_train, y_train)\n",
    "gnb.score(X_test, y_test)"
   ]
  },
  {
   "cell_type": "code",
   "execution_count": 208,
   "id": "01d7ca4b",
   "metadata": {},
   "outputs": [
    {
     "data": {
      "text/plain": [
       "0.18879658207548125"
      ]
     },
     "execution_count": 208,
     "metadata": {},
     "output_type": "execute_result"
    }
   ],
   "source": [
    "y_proba = gnb.predict_proba(X_test)\n",
    "log_loss(y_test, y_proba)\n"
   ]
  },
  {
   "cell_type": "markdown",
   "id": "0f47b98f",
   "metadata": {},
   "source": [
    "## Bernoulli NB"
   ]
  },
  {
   "cell_type": "markdown",
   "id": "cd25deb7",
   "metadata": {},
   "source": [
    "distribuzione usata è una bernoulliana <br>\n",
    "eventi binari <br>\n",
    "possibile valore racchiuso tra 0 e 1, accaduto e non accaduto"
   ]
  },
  {
   "cell_type": "markdown",
   "id": "827fc835",
   "metadata": {},
   "source": [
    "### modello spam sms"
   ]
  },
  {
   "cell_type": "code",
   "execution_count": 209,
   "id": "8ddb4a58",
   "metadata": {},
   "outputs": [],
   "source": [
    "BASE_URL = 'https://raw.githubusercontent.com/ProfAI/machine-learning-modelli-e-algoritmi/3a3ea7a52fcc36781559a2a3071bdab6a09bcfbe/datasets/'"
   ]
  },
  {
   "cell_type": "code",
   "execution_count": 210,
   "id": "3a2bcfd5",
   "metadata": {},
   "outputs": [
    {
     "data": {
      "text/html": [
       "<div>\n",
       "<style scoped>\n",
       "    .dataframe tbody tr th:only-of-type {\n",
       "        vertical-align: middle;\n",
       "    }\n",
       "\n",
       "    .dataframe tbody tr th {\n",
       "        vertical-align: top;\n",
       "    }\n",
       "\n",
       "    .dataframe thead th {\n",
       "        text-align: right;\n",
       "    }\n",
       "</style>\n",
       "<table border=\"1\" class=\"dataframe\">\n",
       "  <thead>\n",
       "    <tr style=\"text-align: right;\">\n",
       "      <th></th>\n",
       "      <th>Unnamed: 0</th>\n",
       "      <th>MESSAGE</th>\n",
       "      <th>SPAM</th>\n",
       "    </tr>\n",
       "  </thead>\n",
       "  <tbody>\n",
       "    <tr>\n",
       "      <th>0</th>\n",
       "      <td>2348</td>\n",
       "      <td>That seems unnecessarily affectionate</td>\n",
       "      <td>False</td>\n",
       "    </tr>\n",
       "    <tr>\n",
       "      <th>1</th>\n",
       "      <td>762</td>\n",
       "      <td>Urgent Ur å£500 guaranteed award is still uncl...</td>\n",
       "      <td>True</td>\n",
       "    </tr>\n",
       "    <tr>\n",
       "      <th>2</th>\n",
       "      <td>3298</td>\n",
       "      <td>Honeybee Said: *I'm d Sweetest in d World* God...</td>\n",
       "      <td>False</td>\n",
       "    </tr>\n",
       "    <tr>\n",
       "      <th>3</th>\n",
       "      <td>3104</td>\n",
       "      <td>Or remind me in a few hrs.</td>\n",
       "      <td>False</td>\n",
       "    </tr>\n",
       "    <tr>\n",
       "      <th>4</th>\n",
       "      <td>4241</td>\n",
       "      <td>Show ur colours! Euro 2004 2-4-1 Offer! Get an...</td>\n",
       "      <td>True</td>\n",
       "    </tr>\n",
       "  </tbody>\n",
       "</table>\n",
       "</div>"
      ],
      "text/plain": [
       "   Unnamed: 0                                            MESSAGE   SPAM\n",
       "0        2348              That seems unnecessarily affectionate  False\n",
       "1         762  Urgent Ur å£500 guaranteed award is still uncl...   True\n",
       "2        3298  Honeybee Said: *I'm d Sweetest in d World* God...  False\n",
       "3        3104                         Or remind me in a few hrs.  False\n",
       "4        4241  Show ur colours! Euro 2004 2-4-1 Offer! Get an...   True"
      ]
     },
     "execution_count": 210,
     "metadata": {},
     "output_type": "execute_result"
    }
   ],
   "source": [
    "df = pd.read_csv(BASE_URL+'spam.csv')\n",
    "df.head()"
   ]
  },
  {
   "cell_type": "markdown",
   "id": "a0a51242",
   "metadata": {},
   "source": [
    "1. costruzione del vocabolario, seconda soluzione più efficiente"
   ]
  },
  {
   "cell_type": "code",
   "execution_count": 211,
   "id": "56e887d7",
   "metadata": {},
   "outputs": [
    {
     "data": {
      "text/plain": [
       "1000"
      ]
     },
     "execution_count": 211,
     "metadata": {},
     "output_type": "execute_result"
    }
   ],
   "source": [
    "len(df)"
   ]
  },
  {
   "cell_type": "code",
   "execution_count": 212,
   "id": "606d0ebf",
   "metadata": {},
   "outputs": [],
   "source": [
    "def build_vocab(corpus):\n",
    "\n",
    "    vocab = []\n",
    "    for doc in corpus:\n",
    "        for word in doc.split():\n",
    "            if word.lower() not in vocab:\n",
    "                vocab.append(word.lower())\n",
    "    \n",
    "    return vocab\n",
    "\n",
    "def build_vocab_eff(corpus):\n",
    "\n",
    "    vocab = set({})\n",
    "\n",
    "    for doc in corpus:\n",
    "        vocab = vocab.union(set(doc.lower().split()))\n",
    "    \n",
    "    return list(vocab)\n",
    "\n",
    "corpus = [\"anvedi come balla nando\", \"peppe è figo\", \"bella per te\", \"ciao come stai\"]"
   ]
  },
  {
   "cell_type": "code",
   "execution_count": 213,
   "id": "5019bfc9",
   "metadata": {},
   "outputs": [
    {
     "data": {
      "text/plain": [
       "['peppe',\n",
       " 'balla',\n",
       " 'figo',\n",
       " 'te',\n",
       " 'ciao',\n",
       " 'stai',\n",
       " 'anvedi',\n",
       " 'per',\n",
       " 'bella',\n",
       " 'nando',\n",
       " 'come',\n",
       " 'è']"
      ]
     },
     "execution_count": 213,
     "metadata": {},
     "output_type": "execute_result"
    }
   ],
   "source": [
    "build_vocab_eff(corpus)"
   ]
  },
  {
   "cell_type": "markdown",
   "id": "2761e26c",
   "metadata": {},
   "source": [
    "2. creaiamo il bag of words"
   ]
  },
  {
   "cell_type": "code",
   "execution_count": 214,
   "id": "483ca3bb",
   "metadata": {},
   "outputs": [
    {
     "data": {
      "text/plain": [
       "[[0, 1, 0, 0, 0, 0, 1, 0, 0, 1, 1, 0],\n",
       " [1, 0, 1, 0, 0, 0, 0, 0, 0, 0, 0, 1],\n",
       " [0, 0, 0, 1, 0, 0, 0, 1, 1, 0, 0, 0],\n",
       " [0, 0, 0, 0, 1, 1, 0, 0, 0, 0, 1, 0]]"
      ]
     },
     "execution_count": 214,
     "metadata": {},
     "output_type": "execute_result"
    }
   ],
   "source": [
    "def binary_bow(corpus, vocab = None):\n",
    "\n",
    "    if vocab is None:\n",
    "       vocab = build_vocab_eff(corpus)\n",
    "    \n",
    "    vocab_size = len(vocab)\n",
    "    docs_bow = []\n",
    "\n",
    "    for doc in corpus:\n",
    "        doc_bow = [0]*vocab_size\n",
    "        for i in range(vocab_size):\n",
    "            doc_bow[i] = int(vocab[i] in doc)\n",
    "        docs_bow.append(doc_bow)\n",
    "\n",
    "    return docs_bow\n",
    "\n",
    "binary_bow(corpus)"
   ]
  },
  {
   "cell_type": "markdown",
   "id": "9041ec5c",
   "metadata": {},
   "source": [
    "3. codifichiamo il reale corpus del df"
   ]
  },
  {
   "cell_type": "code",
   "execution_count": 215,
   "id": "5bb4ce47",
   "metadata": {},
   "outputs": [
    {
     "data": {
      "text/plain": [
       "['That seems unnecessarily affectionate',\n",
       " 'Urgent Ur å£500 guaranteed award is still unclaimed! Call 09066368327 NOW closingdate04/09/02 claimcode M39M51 å£1.50pmmorefrommobile2Bremoved-MobyPOBox734LS27YF',\n",
       " \"Honeybee Said: *I'm d Sweetest in d World* God Laughed &amp; Said: *Wait,U Havnt Met d Person Reading This Msg* MORAL: Even GOD Can Crack Jokes! GM+GN+GE+GN:)\",\n",
       " 'Or remind me in a few hrs.',\n",
       " 'Show ur colours! Euro 2004 2-4-1 Offer! Get an England Flag & 3Lions tone on ur phone! Click on the following service message for info!']"
      ]
     },
     "execution_count": 215,
     "metadata": {},
     "output_type": "execute_result"
    }
   ],
   "source": [
    "sms_list = df[\"MESSAGE\"].to_list()\n",
    "sms_list[:5]"
   ]
  },
  {
   "cell_type": "code",
   "execution_count": 216,
   "id": "a0078a2f",
   "metadata": {},
   "outputs": [
    {
     "data": {
      "text/plain": [
       "4847"
      ]
     },
     "execution_count": 216,
     "metadata": {},
     "output_type": "execute_result"
    }
   ],
   "source": [
    "sms_bow = binary_bow(sms_list)\n",
    "len(sms_bow[0])"
   ]
  },
  {
   "cell_type": "code",
   "execution_count": 217,
   "id": "7d58e3e9",
   "metadata": {},
   "outputs": [],
   "source": [
    "X = sms_bow\n",
    "y = df[\"SPAM\"].to_list()"
   ]
  },
  {
   "cell_type": "code",
   "execution_count": 218,
   "id": "d2258b15",
   "metadata": {},
   "outputs": [],
   "source": [
    "X_train_sms, X_test_sms, y_train_sms, y_test_sms = train_test_split(X, y, test_size=.3, random_state=RANDOM_SEED)\n"
   ]
  },
  {
   "cell_type": "code",
   "execution_count": 219,
   "id": "4835949c",
   "metadata": {},
   "outputs": [],
   "source": [
    "from sklearn.naive_bayes import BernoulliNB"
   ]
  },
  {
   "cell_type": "code",
   "execution_count": 220,
   "id": "245a8772",
   "metadata": {},
   "outputs": [],
   "source": [
    "bnb = BernoulliNB()\n",
    "bnb.fit(X_train_sms, y_train_sms)\n",
    "report = classification_report(bnb.predict(X_test_sms), y_test_sms)"
   ]
  },
  {
   "cell_type": "code",
   "execution_count": 221,
   "id": "293f81be",
   "metadata": {},
   "outputs": [
    {
     "name": "stdout",
     "output_type": "stream",
     "text": [
      "              precision    recall  f1-score   support\n",
      "\n",
      "       False       0.99      0.92      0.95       155\n",
      "        True       0.92      0.99      0.95       145\n",
      "\n",
      "    accuracy                           0.95       300\n",
      "   macro avg       0.95      0.95      0.95       300\n",
      "weighted avg       0.96      0.95      0.95       300\n",
      "\n"
     ]
    }
   ],
   "source": [
    "print(report)"
   ]
  },
  {
   "cell_type": "markdown",
   "id": "aff5e37f",
   "metadata": {},
   "source": [
    "## Multinomial NB"
   ]
  },
  {
   "cell_type": "markdown",
   "id": "8521ee10",
   "metadata": {},
   "source": [
    "se volessi usare bow originale, non basta occorrenza della parola (1 o 0) ma il conteggio di essa, quante volte appare"
   ]
  },
  {
   "cell_type": "code",
   "execution_count": 222,
   "id": "737a2c65",
   "metadata": {},
   "outputs": [
    {
     "data": {
      "text/html": [
       "<div>\n",
       "<style scoped>\n",
       "    .dataframe tbody tr th:only-of-type {\n",
       "        vertical-align: middle;\n",
       "    }\n",
       "\n",
       "    .dataframe tbody tr th {\n",
       "        vertical-align: top;\n",
       "    }\n",
       "\n",
       "    .dataframe thead th {\n",
       "        text-align: right;\n",
       "    }\n",
       "</style>\n",
       "<table border=\"1\" class=\"dataframe\">\n",
       "  <thead>\n",
       "    <tr style=\"text-align: right;\">\n",
       "      <th></th>\n",
       "      <th>Unnamed: 0</th>\n",
       "      <th>MESSAGE</th>\n",
       "      <th>SPAM</th>\n",
       "    </tr>\n",
       "  </thead>\n",
       "  <tbody>\n",
       "    <tr>\n",
       "      <th>0</th>\n",
       "      <td>2348</td>\n",
       "      <td>That seems unnecessarily affectionate</td>\n",
       "      <td>False</td>\n",
       "    </tr>\n",
       "    <tr>\n",
       "      <th>1</th>\n",
       "      <td>762</td>\n",
       "      <td>Urgent Ur å£500 guaranteed award is still uncl...</td>\n",
       "      <td>True</td>\n",
       "    </tr>\n",
       "    <tr>\n",
       "      <th>2</th>\n",
       "      <td>3298</td>\n",
       "      <td>Honeybee Said: *I'm d Sweetest in d World* God...</td>\n",
       "      <td>False</td>\n",
       "    </tr>\n",
       "    <tr>\n",
       "      <th>3</th>\n",
       "      <td>3104</td>\n",
       "      <td>Or remind me in a few hrs.</td>\n",
       "      <td>False</td>\n",
       "    </tr>\n",
       "    <tr>\n",
       "      <th>4</th>\n",
       "      <td>4241</td>\n",
       "      <td>Show ur colours! Euro 2004 2-4-1 Offer! Get an...</td>\n",
       "      <td>True</td>\n",
       "    </tr>\n",
       "  </tbody>\n",
       "</table>\n",
       "</div>"
      ],
      "text/plain": [
       "   Unnamed: 0                                            MESSAGE   SPAM\n",
       "0        2348              That seems unnecessarily affectionate  False\n",
       "1         762  Urgent Ur å£500 guaranteed award is still uncl...   True\n",
       "2        3298  Honeybee Said: *I'm d Sweetest in d World* God...  False\n",
       "3        3104                         Or remind me in a few hrs.  False\n",
       "4        4241  Show ur colours! Euro 2004 2-4-1 Offer! Get an...   True"
      ]
     },
     "execution_count": 222,
     "metadata": {},
     "output_type": "execute_result"
    }
   ],
   "source": [
    "df = pd.read_csv(BASE_URL+'spam.csv')\n",
    "df.head()"
   ]
  },
  {
   "cell_type": "code",
   "execution_count": 223,
   "id": "a2e5d4d0",
   "metadata": {},
   "outputs": [],
   "source": [
    "def bow(corpus, vocab = None):\n",
    "\n",
    "    if vocab is None:\n",
    "        vocab = build_vocab_eff(corpus)\n",
    "\n",
    "    vocab_size = len(vocab)\n",
    "    docs_bow = []\n",
    "\n",
    "    for doc in corpus:\n",
    "        doc_bow = [0]*vocab_size\n",
    "        for i in range(vocab_size):\n",
    "            doc_bow[i] = doc.split().count(vocab[i])\n",
    "        docs_bow.append(doc_bow)\n",
    "\n",
    "    return docs_bow"
   ]
  },
  {
   "cell_type": "code",
   "execution_count": 224,
   "id": "4efb8dc9",
   "metadata": {},
   "outputs": [
    {
     "data": {
      "text/plain": [
       "[[0, 0, 2, 0, 0, 0, 0, 0, 0, 1, 0, 0, 0, 1, 1, 0],\n",
       " [0, 1, 0, 0, 1, 1, 0, 0, 0, 1, 0, 1, 0, 0, 0, 0],\n",
       " [1, 0, 0, 1, 0, 0, 0, 0, 0, 0, 0, 0, 0, 0, 0, 1],\n",
       " [0, 0, 0, 0, 0, 0, 1, 0, 0, 0, 1, 0, 1, 0, 0, 0],\n",
       " [0, 0, 0, 0, 0, 0, 0, 1, 1, 0, 0, 0, 0, 0, 1, 0]]"
      ]
     },
     "execution_count": 224,
     "metadata": {},
     "output_type": "execute_result"
    }
   ],
   "source": [
    "corpus1 = [\"anvedi come balla balla nando\", \"anvedi la fine del mondo\", \"peppe è figo\", \"bella per te\", \"ciao come stai\"]\n",
    "bow(corpus1)"
   ]
  },
  {
   "cell_type": "code",
   "execution_count": 225,
   "id": "51567c43",
   "metadata": {},
   "outputs": [],
   "source": [
    "X = sms_bow\n",
    "y = df['SPAM'].to_list()\n",
    "X_train_bow, X_test_bow, y_train_bow, y_test_bow = train_test_split(X,y, train_size=.3, random_state=RANDOM_SEED)\n"
   ]
  },
  {
   "cell_type": "code",
   "execution_count": 226,
   "id": "dbf92f35",
   "metadata": {},
   "outputs": [],
   "source": [
    "from sklearn.naive_bayes import MultinomialNB"
   ]
  },
  {
   "cell_type": "code",
   "execution_count": 227,
   "id": "f6b6d0f5",
   "metadata": {},
   "outputs": [
    {
     "name": "stdout",
     "output_type": "stream",
     "text": [
      "              precision    recall  f1-score   support\n",
      "\n",
      "       False       0.95      0.94      0.95       337\n",
      "        True       0.95      0.96      0.95       363\n",
      "\n",
      "    accuracy                           0.95       700\n",
      "   macro avg       0.95      0.95      0.95       700\n",
      "weighted avg       0.95      0.95      0.95       700\n",
      "\n"
     ]
    }
   ],
   "source": [
    "mnb = MultinomialNB()\n",
    "mnb.fit(X_train_bow, y_train_bow)\n",
    "report = classification_report( y_test_bow, mnb.predict(X_test_bow))\n",
    "print(report)"
   ]
  },
  {
   "cell_type": "markdown",
   "id": "f6c13cbc",
   "metadata": {},
   "source": [
    "## Complement NB (variante del multinomial)"
   ]
  },
  {
   "cell_type": "markdown",
   "id": "0f0ba307",
   "metadata": {},
   "source": [
    "con dataset sbilanciati lavora meglio"
   ]
  },
  {
   "cell_type": "code",
   "execution_count": 228,
   "id": "4abce6f6",
   "metadata": {},
   "outputs": [],
   "source": [
    "from sklearn.naive_bayes import ComplementNB"
   ]
  },
  {
   "cell_type": "code",
   "execution_count": 229,
   "id": "99a1b373",
   "metadata": {},
   "outputs": [
    {
     "data": {
      "text/html": [
       "<div>\n",
       "<style scoped>\n",
       "    .dataframe tbody tr th:only-of-type {\n",
       "        vertical-align: middle;\n",
       "    }\n",
       "\n",
       "    .dataframe tbody tr th {\n",
       "        vertical-align: top;\n",
       "    }\n",
       "\n",
       "    .dataframe thead th {\n",
       "        text-align: right;\n",
       "    }\n",
       "</style>\n",
       "<table border=\"1\" class=\"dataframe\">\n",
       "  <thead>\n",
       "    <tr style=\"text-align: right;\">\n",
       "      <th></th>\n",
       "      <th>Unnamed: 0</th>\n",
       "      <th>MESSAGE</th>\n",
       "      <th>SPAM</th>\n",
       "    </tr>\n",
       "  </thead>\n",
       "  <tbody>\n",
       "    <tr>\n",
       "      <th>0</th>\n",
       "      <td>0</td>\n",
       "      <td>You available now? I'm like right around hills...</td>\n",
       "      <td>False</td>\n",
       "    </tr>\n",
       "    <tr>\n",
       "      <th>1</th>\n",
       "      <td>1</td>\n",
       "      <td>Can a not?</td>\n",
       "      <td>False</td>\n",
       "    </tr>\n",
       "    <tr>\n",
       "      <th>2</th>\n",
       "      <td>2</td>\n",
       "      <td>Ok set let u noe e details later...</td>\n",
       "      <td>False</td>\n",
       "    </tr>\n",
       "    <tr>\n",
       "      <th>3</th>\n",
       "      <td>3</td>\n",
       "      <td>YOU ARE CHOSEN TO RECEIVE A å£350 AWARD! Pls c...</td>\n",
       "      <td>True</td>\n",
       "    </tr>\n",
       "    <tr>\n",
       "      <th>4</th>\n",
       "      <td>4</td>\n",
       "      <td>Hi baby ive just got back from work and i was ...</td>\n",
       "      <td>False</td>\n",
       "    </tr>\n",
       "  </tbody>\n",
       "</table>\n",
       "</div>"
      ],
      "text/plain": [
       "   Unnamed: 0                                            MESSAGE   SPAM\n",
       "0           0  You available now? I'm like right around hills...  False\n",
       "1           1                                         Can a not?  False\n",
       "2           2                Ok set let u noe e details later...  False\n",
       "3           3  YOU ARE CHOSEN TO RECEIVE A å£350 AWARD! Pls c...   True\n",
       "4           4  Hi baby ive just got back from work and i was ...  False"
      ]
     },
     "execution_count": 229,
     "metadata": {},
     "output_type": "execute_result"
    }
   ],
   "source": [
    "df = pd.read_csv(BASE_URL + 'spam_unbalanced.csv')\n",
    "df.head()"
   ]
  },
  {
   "cell_type": "markdown",
   "id": "8f0c3f67",
   "metadata": {},
   "source": [
    "dataset fortemente sbilanciato"
   ]
  },
  {
   "cell_type": "code",
   "execution_count": 230,
   "id": "da66afb2",
   "metadata": {},
   "outputs": [
    {
     "data": {
      "text/plain": [
       "False    86.6\n",
       "True     13.4\n",
       "Name: SPAM, dtype: float64"
      ]
     },
     "execution_count": 230,
     "metadata": {},
     "output_type": "execute_result"
    }
   ],
   "source": [
    "df['SPAM'].value_counts()/len(df)*100"
   ]
  },
  {
   "cell_type": "markdown",
   "id": "0bfd4e9d",
   "metadata": {},
   "source": [
    "usiamo la funzione originale bow di sklearn"
   ]
  },
  {
   "cell_type": "code",
   "execution_count": 231,
   "id": "a4eb15b0",
   "metadata": {},
   "outputs": [],
   "source": [
    "from sklearn.feature_extraction.text import CountVectorizer"
   ]
  },
  {
   "cell_type": "code",
   "execution_count": 232,
   "id": "6bed7132",
   "metadata": {},
   "outputs": [],
   "source": [
    "X = df['MESSAGE']\n",
    "y = df['SPAM']"
   ]
  },
  {
   "cell_type": "code",
   "execution_count": 233,
   "id": "a076dd2b",
   "metadata": {},
   "outputs": [],
   "source": [
    "X_train_compl, X_test_compl, y_train_compl, y_test_compl = train_test_split(X,y,test_size=.3, random_state=RANDOM_SEED)\n"
   ]
  },
  {
   "cell_type": "code",
   "execution_count": 234,
   "id": "a7c50045",
   "metadata": {},
   "outputs": [],
   "source": [
    "bow = CountVectorizer(stop_words=\"english\", max_features=1000)\n"
   ]
  },
  {
   "cell_type": "code",
   "execution_count": 235,
   "id": "d2a0b666",
   "metadata": {},
   "outputs": [
    {
     "data": {
      "text/plain": [
       "(700, 1000)"
      ]
     },
     "execution_count": 235,
     "metadata": {},
     "output_type": "execute_result"
    }
   ],
   "source": [
    "X_train_compl = bow.fit_transform(X_train_compl)\n",
    "X_test_compl = bow.transform(X_test_compl)\n",
    "X_train_compl.shape"
   ]
  },
  {
   "cell_type": "markdown",
   "id": "1a51a459",
   "metadata": {},
   "source": [
    "il modello classifica troppi elementi come appartenenti alla classe positiva"
   ]
  },
  {
   "cell_type": "code",
   "execution_count": 236,
   "id": "fc8c4030",
   "metadata": {},
   "outputs": [
    {
     "name": "stdout",
     "output_type": "stream",
     "text": [
      "              precision    recall  f1-score   support\n",
      "\n",
      "       False       0.99      0.93      0.96       258\n",
      "        True       0.68      0.93      0.79        42\n",
      "\n",
      "    accuracy                           0.93       300\n",
      "   macro avg       0.84      0.93      0.87       300\n",
      "weighted avg       0.95      0.93      0.93       300\n",
      "\n"
     ]
    }
   ],
   "source": [
    "cnb = ComplementNB()\n",
    "cnb.fit(X_train_compl, y_train_compl)\n",
    "report = classification_report(y_test_compl, cnb.predict(X_test_compl))\n",
    "print(report)"
   ]
  },
  {
   "cell_type": "code",
   "execution_count": 237,
   "id": "a1dc12d5",
   "metadata": {},
   "outputs": [
    {
     "data": {
      "text/plain": [
       "array([[240,  18],\n",
       "       [  3,  39]])"
      ]
     },
     "execution_count": 237,
     "metadata": {},
     "output_type": "execute_result"
    }
   ],
   "source": [
    "confusion_matrix(y_test_compl, cnb.predict(X_test_compl))"
   ]
  },
  {
   "cell_type": "markdown",
   "id": "9a648f46",
   "metadata": {},
   "source": [
    "### vediamo come si comporta un modello multinomiale che non gestisce i dati sbilanciati"
   ]
  },
  {
   "cell_type": "code",
   "execution_count": 238,
   "id": "2c85b02d",
   "metadata": {},
   "outputs": [
    {
     "name": "stdout",
     "output_type": "stream",
     "text": [
      "              precision    recall  f1-score   support\n",
      "\n",
      "       False       0.98      0.99      0.99       258\n",
      "        True       0.95      0.88      0.91        42\n",
      "\n",
      "    accuracy                           0.98       300\n",
      "   macro avg       0.96      0.94      0.95       300\n",
      "weighted avg       0.98      0.98      0.98       300\n",
      "\n"
     ]
    }
   ],
   "source": [
    "mnb = MultinomialNB()\n",
    "mnb.fit(X_train_compl, y_train_compl)\n",
    "print(classification_report(y_test_compl, mnb.predict(X_test_compl)))"
   ]
  },
  {
   "cell_type": "code",
   "execution_count": 239,
   "id": "3cce6492",
   "metadata": {},
   "outputs": [
    {
     "data": {
      "text/plain": [
       "array([[256,   2],\n",
       "       [  5,  37]])"
      ]
     },
     "execution_count": 239,
     "metadata": {},
     "output_type": "execute_result"
    }
   ],
   "source": [
    "confusion_matrix(y_test_compl, mnb.predict(X_test_compl))"
   ]
  },
  {
   "cell_type": "markdown",
   "id": "4c861520",
   "metadata": {},
   "source": [
    "## Categorical NB"
   ]
  },
  {
   "cell_type": "markdown",
   "id": "fb3ea36b",
   "metadata": {},
   "source": [
    "assume che le categorie siano codificate con un numero (ORDINAL ENCODER)"
   ]
  },
  {
   "cell_type": "code",
   "execution_count": 240,
   "id": "507acdb6",
   "metadata": {},
   "outputs": [
    {
     "data": {
      "text/html": [
       "<div>\n",
       "<style scoped>\n",
       "    .dataframe tbody tr th:only-of-type {\n",
       "        vertical-align: middle;\n",
       "    }\n",
       "\n",
       "    .dataframe tbody tr th {\n",
       "        vertical-align: top;\n",
       "    }\n",
       "\n",
       "    .dataframe thead th {\n",
       "        text-align: right;\n",
       "    }\n",
       "</style>\n",
       "<table border=\"1\" class=\"dataframe\">\n",
       "  <thead>\n",
       "    <tr style=\"text-align: right;\">\n",
       "      <th></th>\n",
       "      <th>ZN</th>\n",
       "      <th>CHAS</th>\n",
       "      <th>RAD</th>\n",
       "      <th>PRICE</th>\n",
       "    </tr>\n",
       "  </thead>\n",
       "  <tbody>\n",
       "    <tr>\n",
       "      <th>0</th>\n",
       "      <td>18.0</td>\n",
       "      <td>0.0</td>\n",
       "      <td>1.0</td>\n",
       "      <td>24.0</td>\n",
       "    </tr>\n",
       "    <tr>\n",
       "      <th>1</th>\n",
       "      <td>0.0</td>\n",
       "      <td>0.0</td>\n",
       "      <td>2.0</td>\n",
       "      <td>21.6</td>\n",
       "    </tr>\n",
       "    <tr>\n",
       "      <th>2</th>\n",
       "      <td>0.0</td>\n",
       "      <td>0.0</td>\n",
       "      <td>2.0</td>\n",
       "      <td>34.7</td>\n",
       "    </tr>\n",
       "    <tr>\n",
       "      <th>3</th>\n",
       "      <td>0.0</td>\n",
       "      <td>0.0</td>\n",
       "      <td>3.0</td>\n",
       "      <td>33.4</td>\n",
       "    </tr>\n",
       "    <tr>\n",
       "      <th>4</th>\n",
       "      <td>0.0</td>\n",
       "      <td>0.0</td>\n",
       "      <td>3.0</td>\n",
       "      <td>36.2</td>\n",
       "    </tr>\n",
       "  </tbody>\n",
       "</table>\n",
       "</div>"
      ],
      "text/plain": [
       "     ZN  CHAS  RAD  PRICE\n",
       "0  18.0   0.0  1.0   24.0\n",
       "1   0.0   0.0  2.0   21.6\n",
       "2   0.0   0.0  2.0   34.7\n",
       "3   0.0   0.0  3.0   33.4\n",
       "4   0.0   0.0  3.0   36.2"
      ]
     },
     "execution_count": 240,
     "metadata": {},
     "output_type": "execute_result"
    }
   ],
   "source": [
    "BASE_URL = 'https://raw.githubusercontent.com/ProfAI/machine-learning-fondamenti/refs/heads/main/datasets/housing.csv'\n",
    "df = pd.read_csv(BASE_URL, usecols=['ZN', 'CHAS', 'RAD', 'PRICE'])\n",
    "df.head()"
   ]
  },
  {
   "cell_type": "code",
   "execution_count": 241,
   "id": "5d53e97c",
   "metadata": {},
   "outputs": [],
   "source": [
    "from sklearn.preprocessing import OrdinalEncoder"
   ]
  },
  {
   "cell_type": "markdown",
   "id": "831d83e0",
   "metadata": {},
   "source": [
    "i naive bayes sono ottimi classificatori ma pessimi regressori, per questo sono implementati su sklearn SOLO come classificatori. <br>\n",
    "\n",
    "trasformiamo per questo il problema"
   ]
  },
  {
   "cell_type": "code",
   "execution_count": 248,
   "id": "653f728e",
   "metadata": {},
   "outputs": [],
   "source": [
    "def price_to_category(price):\n",
    "\n",
    "    CATEGORIES = ['VERY CHEAP', 'CHEAP', 'AVERAGE', 'EXPENSIVE', 'VERY EXPENSIVE']\n",
    "\n",
    "    for i in range(1,5):\n",
    "        if price < df['PRICE'].quantile(0.2*i):\n",
    "            return CATEGORIES[i]\n",
    "    \n",
    "    return CATEGORIES[-1]\n",
    "\n",
    "df['PRICE'] = df['PRICE'].apply(price_to_category)\n",
    "    \n",
    "    \n"
   ]
  },
  {
   "cell_type": "code",
   "execution_count": 250,
   "id": "348010d7",
   "metadata": {},
   "outputs": [],
   "source": [
    "X = df.drop('PRICE', axis=1).values\n",
    "y = df['PRICE'].values\n",
    "\n",
    "X_train, X_test, y_train, y_test = train_test_split(X,y,test_size=.3, random_state=RANDOM_SEED)\n",
    "\n",
    "oe  = OrdinalEncoder(handle_unknown='use_encoded_value', unknown_value=np.nan)\n",
    "X_train = oe.fit_transform(X_train)\n",
    "X_test = oe.transform(X_test)"
   ]
  },
  {
   "cell_type": "code",
   "execution_count": 251,
   "id": "22e85355",
   "metadata": {},
   "outputs": [],
   "source": [
    "from sklearn.naive_bayes import CategoricalNB, GaussianNB"
   ]
  },
  {
   "cell_type": "markdown",
   "id": "fefa5be7",
   "metadata": {},
   "source": [
    "Gaussian peggiore del modello random"
   ]
  },
  {
   "cell_type": "code",
   "execution_count": 252,
   "id": "a8c7ece7",
   "metadata": {},
   "outputs": [
    {
     "data": {
      "text/plain": [
       "0.34868421052631576"
      ]
     },
     "execution_count": 252,
     "metadata": {},
     "output_type": "execute_result"
    }
   ],
   "source": [
    "gnb = GaussianNB()\n",
    "gnb.fit(X_train, y_train)\n",
    "gnb.score(X_test,y_test)"
   ]
  },
  {
   "cell_type": "code",
   "execution_count": 253,
   "id": "d7b8d8bf",
   "metadata": {},
   "outputs": [
    {
     "data": {
      "text/plain": [
       "0.5"
      ]
     },
     "execution_count": 253,
     "metadata": {},
     "output_type": "execute_result"
    }
   ],
   "source": [
    "catNB  =CategoricalNB()\n",
    "catNB.fit(X_train, y_train)\n",
    "catNB.score(X_test, y_test)"
   ]
  },
  {
   "cell_type": "markdown",
   "id": "a0952aad",
   "metadata": {},
   "source": [
    "# Esercitazione"
   ]
  },
  {
   "cell_type": "markdown",
   "id": "024202e9",
   "metadata": {},
   "source": [
    "**Spam Filtering con Naive Bayes** <br><br>\n",
    "Per questa esercitazione dovrai utilizzare l'intero dataset di sms di spam per creare un classificare di spam utilizzando un algoritmo Naive Bayes.\n",
    "\n",
    "Task:\n",
    "- Scarica il dataset da Kaggle (richiede un account gratuito), puoi farlo anche utilizzando le API.\n",
    "- Processa il dataset per ottenere un dataframe con la stessa struttura di quello visto nelle lezioni di pratica.\n",
    "- Costruisci e valuta i tuoi modelli ottimizzando le metriche che reputi corretto ottimizzare in base al problema affrontato.\n",
    "- Una volta selezionato il modello finale, seleziona 3 email spam e 3 email non spam dalla tua casella di posta e prova ad usare il modello per classificarle. (n.b va bene anche se il tuo modello non le classifica tutte correttamente, ricorda che il dataset è di sms non di email)"
   ]
  },
  {
   "cell_type": "markdown",
   "id": "56252f94",
   "metadata": {},
   "source": [
    "### import dipendenze"
   ]
  },
  {
   "cell_type": "code",
   "execution_count": 256,
   "id": "4616905d",
   "metadata": {},
   "outputs": [],
   "source": [
    "import pandas as pd\n",
    "import numpy as np\n",
    "import os\n",
    "from sklearn.feature_extraction.text import CountVectorizer\n",
    "from sklearn.model_selection import train_test_split\n",
    "from sklearn.naive_bayes import MultinomialNB, GaussianNB, ComplementNB, BernoulliNB\n",
    "from sklearn.metrics import log_loss, classification_report, confusion_matrix"
   ]
  },
  {
   "cell_type": "code",
   "execution_count": 254,
   "id": "15c3b910",
   "metadata": {},
   "outputs": [],
   "source": [
    "USERNAME = 'adanfindo'\n",
    "KEY = 'e8ddbc12e71afa38f8fae56df39b3ad1'"
   ]
  },
  {
   "cell_type": "code",
   "execution_count": 257,
   "id": "805ff7bb",
   "metadata": {},
   "outputs": [],
   "source": [
    "os.environ['USERNAME'] = 'adan findo'\n",
    "os.environ['KEY'] = 'e8ddbc12e71afa38f8fae56df39b3ad1'\n",
    "\n",
    "RANDOM_SEED = 0\n"
   ]
  },
  {
   "cell_type": "code",
   "execution_count": 258,
   "id": "9811f888",
   "metadata": {},
   "outputs": [
    {
     "name": "stdout",
     "output_type": "stream",
     "text": [
      "Warning: Looks like you're using an outdated API Version, please consider updating (server 1.7.4.2 / client 1.6.17)\n",
      "Dataset URL: https://www.kaggle.com/datasets/uciml/sms-spam-collection-dataset\n",
      "License(s): unknown\n",
      "Downloading sms-spam-collection-dataset.zip to /Users/adanfindo/Desktop/ProAI-1/AI_developer\n",
      "100%|█████████████████████████████████████████| 211k/211k [00:00<00:00, 465kB/s]\n",
      "100%|█████████████████████████████████████████| 211k/211k [00:00<00:00, 464kB/s]\n"
     ]
    }
   ],
   "source": [
    "!kaggle datasets download -d uciml/sms-spam-collection-dataset\n"
   ]
  },
  {
   "cell_type": "code",
   "execution_count": 259,
   "id": "d2c8dd5f",
   "metadata": {},
   "outputs": [
    {
     "name": "stdout",
     "output_type": "stream",
     "text": [
      "Archive:  sms-spam-collection-dataset.zip\n",
      "  inflating: spam.csv                \n"
     ]
    }
   ],
   "source": [
    "!unzip sms-spam-collection-dataset.zip"
   ]
  },
  {
   "cell_type": "markdown",
   "id": "6d5722f7",
   "metadata": {},
   "source": [
    "### preprocessing dati"
   ]
  },
  {
   "cell_type": "code",
   "execution_count": 262,
   "id": "ecb67912",
   "metadata": {},
   "outputs": [
    {
     "data": {
      "text/html": [
       "<div>\n",
       "<style scoped>\n",
       "    .dataframe tbody tr th:only-of-type {\n",
       "        vertical-align: middle;\n",
       "    }\n",
       "\n",
       "    .dataframe tbody tr th {\n",
       "        vertical-align: top;\n",
       "    }\n",
       "\n",
       "    .dataframe thead th {\n",
       "        text-align: right;\n",
       "    }\n",
       "</style>\n",
       "<table border=\"1\" class=\"dataframe\">\n",
       "  <thead>\n",
       "    <tr style=\"text-align: right;\">\n",
       "      <th></th>\n",
       "      <th>v1</th>\n",
       "      <th>v2</th>\n",
       "      <th>Unnamed: 2</th>\n",
       "      <th>Unnamed: 3</th>\n",
       "      <th>Unnamed: 4</th>\n",
       "    </tr>\n",
       "  </thead>\n",
       "  <tbody>\n",
       "    <tr>\n",
       "      <th>0</th>\n",
       "      <td>ham</td>\n",
       "      <td>Go until jurong point, crazy.. Available only ...</td>\n",
       "      <td>NaN</td>\n",
       "      <td>NaN</td>\n",
       "      <td>NaN</td>\n",
       "    </tr>\n",
       "    <tr>\n",
       "      <th>1</th>\n",
       "      <td>ham</td>\n",
       "      <td>Ok lar... Joking wif u oni...</td>\n",
       "      <td>NaN</td>\n",
       "      <td>NaN</td>\n",
       "      <td>NaN</td>\n",
       "    </tr>\n",
       "    <tr>\n",
       "      <th>2</th>\n",
       "      <td>spam</td>\n",
       "      <td>Free entry in 2 a wkly comp to win FA Cup fina...</td>\n",
       "      <td>NaN</td>\n",
       "      <td>NaN</td>\n",
       "      <td>NaN</td>\n",
       "    </tr>\n",
       "    <tr>\n",
       "      <th>3</th>\n",
       "      <td>ham</td>\n",
       "      <td>U dun say so early hor... U c already then say...</td>\n",
       "      <td>NaN</td>\n",
       "      <td>NaN</td>\n",
       "      <td>NaN</td>\n",
       "    </tr>\n",
       "    <tr>\n",
       "      <th>4</th>\n",
       "      <td>ham</td>\n",
       "      <td>Nah I don't think he goes to usf, he lives aro...</td>\n",
       "      <td>NaN</td>\n",
       "      <td>NaN</td>\n",
       "      <td>NaN</td>\n",
       "    </tr>\n",
       "  </tbody>\n",
       "</table>\n",
       "</div>"
      ],
      "text/plain": [
       "     v1                                                 v2 Unnamed: 2  \\\n",
       "0   ham  Go until jurong point, crazy.. Available only ...        NaN   \n",
       "1   ham                      Ok lar... Joking wif u oni...        NaN   \n",
       "2  spam  Free entry in 2 a wkly comp to win FA Cup fina...        NaN   \n",
       "3   ham  U dun say so early hor... U c already then say...        NaN   \n",
       "4   ham  Nah I don't think he goes to usf, he lives aro...        NaN   \n",
       "\n",
       "  Unnamed: 3 Unnamed: 4  \n",
       "0        NaN        NaN  \n",
       "1        NaN        NaN  \n",
       "2        NaN        NaN  \n",
       "3        NaN        NaN  \n",
       "4        NaN        NaN  "
      ]
     },
     "execution_count": 262,
     "metadata": {},
     "output_type": "execute_result"
    }
   ],
   "source": [
    "df = pd.read_csv('/Users/adanfindo/Desktop/ProAI-1/AI_developer/spam.csv', encoding='ISO-8859-1')\n",
    "df.head()"
   ]
  },
  {
   "cell_type": "code",
   "execution_count": 272,
   "id": "584fe20d",
   "metadata": {},
   "outputs": [
    {
     "data": {
      "text/html": [
       "<div>\n",
       "<style scoped>\n",
       "    .dataframe tbody tr th:only-of-type {\n",
       "        vertical-align: middle;\n",
       "    }\n",
       "\n",
       "    .dataframe tbody tr th {\n",
       "        vertical-align: top;\n",
       "    }\n",
       "\n",
       "    .dataframe thead th {\n",
       "        text-align: right;\n",
       "    }\n",
       "</style>\n",
       "<table border=\"1\" class=\"dataframe\">\n",
       "  <thead>\n",
       "    <tr style=\"text-align: right;\">\n",
       "      <th></th>\n",
       "      <th>v1</th>\n",
       "      <th>v2</th>\n",
       "      <th>Unnamed: 2</th>\n",
       "      <th>Unnamed: 3</th>\n",
       "      <th>Unnamed: 4</th>\n",
       "    </tr>\n",
       "  </thead>\n",
       "  <tbody>\n",
       "    <tr>\n",
       "      <th>0</th>\n",
       "      <td>0</td>\n",
       "      <td>Go until jurong point, crazy.. Available only ...</td>\n",
       "      <td>NaN</td>\n",
       "      <td>NaN</td>\n",
       "      <td>NaN</td>\n",
       "    </tr>\n",
       "    <tr>\n",
       "      <th>1</th>\n",
       "      <td>0</td>\n",
       "      <td>Ok lar... Joking wif u oni...</td>\n",
       "      <td>NaN</td>\n",
       "      <td>NaN</td>\n",
       "      <td>NaN</td>\n",
       "    </tr>\n",
       "    <tr>\n",
       "      <th>2</th>\n",
       "      <td>1</td>\n",
       "      <td>Free entry in 2 a wkly comp to win FA Cup fina...</td>\n",
       "      <td>NaN</td>\n",
       "      <td>NaN</td>\n",
       "      <td>NaN</td>\n",
       "    </tr>\n",
       "    <tr>\n",
       "      <th>3</th>\n",
       "      <td>0</td>\n",
       "      <td>U dun say so early hor... U c already then say...</td>\n",
       "      <td>NaN</td>\n",
       "      <td>NaN</td>\n",
       "      <td>NaN</td>\n",
       "    </tr>\n",
       "    <tr>\n",
       "      <th>4</th>\n",
       "      <td>0</td>\n",
       "      <td>Nah I don't think he goes to usf, he lives aro...</td>\n",
       "      <td>NaN</td>\n",
       "      <td>NaN</td>\n",
       "      <td>NaN</td>\n",
       "    </tr>\n",
       "  </tbody>\n",
       "</table>\n",
       "</div>"
      ],
      "text/plain": [
       "   v1                                                 v2 Unnamed: 2  \\\n",
       "0   0  Go until jurong point, crazy.. Available only ...        NaN   \n",
       "1   0                      Ok lar... Joking wif u oni...        NaN   \n",
       "2   1  Free entry in 2 a wkly comp to win FA Cup fina...        NaN   \n",
       "3   0  U dun say so early hor... U c already then say...        NaN   \n",
       "4   0  Nah I don't think he goes to usf, he lives aro...        NaN   \n",
       "\n",
       "  Unnamed: 3 Unnamed: 4  \n",
       "0        NaN        NaN  \n",
       "1        NaN        NaN  \n",
       "2        NaN        NaN  \n",
       "3        NaN        NaN  \n",
       "4        NaN        NaN  "
      ]
     },
     "execution_count": 272,
     "metadata": {},
     "output_type": "execute_result"
    }
   ],
   "source": [
    "encoding = {'ham':0, 'spam':1}\n",
    "df[\"v1\"] = df[\"v1\"].map(lambda x: encoding[x])\n",
    "df.head()"
   ]
  },
  {
   "cell_type": "code",
   "execution_count": null,
   "id": "c39e839a",
   "metadata": {},
   "outputs": [],
   "source": [
    "X = df['v2'].values\n",
    "y = df['v1'].values\n",
    "\n",
    "X_train, X_test, y_train, y_test = train_test_split(X,y,train_size=.3, random_state=RANDOM_SEED)"
   ]
  },
  {
   "cell_type": "code",
   "execution_count": 265,
   "id": "af9ef4af",
   "metadata": {},
   "outputs": [],
   "source": [
    "X_train = np.array(X_train).reshape(-1, 1)\n",
    "X_test = np.array(X_test).reshape(-1, 1)"
   ]
  },
  {
   "cell_type": "code",
   "execution_count": 266,
   "id": "ec6f2637",
   "metadata": {},
   "outputs": [],
   "source": [
    "ord_enc = OrdinalEncoder(handle_unknown='use_encoded_value', unknown_value=np.nan)\n",
    "X_train = ord_enc.fit_transform(X_train)\n",
    "X_test = ord_enc.transform(X_test)"
   ]
  },
  {
   "cell_type": "code",
   "execution_count": 268,
   "id": "811678b4",
   "metadata": {},
   "outputs": [],
   "source": [
    "from sklearn.impute import SimpleImputer\n",
    "\n",
    "imputer = SimpleImputer(strategy='most_frequent')  # oppure 'mean' se numerico\n",
    "X_train = imputer.fit_transform(X_train)\n",
    "X_test = imputer.transform(X_test)"
   ]
  },
  {
   "cell_type": "code",
   "execution_count": null,
   "id": "7274203e",
   "metadata": {},
   "outputs": [
    {
     "name": "stdout",
     "output_type": "stream",
     "text": [
      "0.8636247116124071\n",
      "0.8636247116124071\n",
      "0.8636247116124071\n",
      "0.8636247116124071\n"
     ]
    }
   ],
   "source": []
  },
  {
   "cell_type": "code",
   "execution_count": null,
   "id": "46ccad84",
   "metadata": {},
   "outputs": [],
   "source": []
  }
 ],
 "metadata": {
  "kernelspec": {
   "display_name": "base",
   "language": "python",
   "name": "python3"
  },
  "language_info": {
   "codemirror_mode": {
    "name": "ipython",
    "version": 3
   },
   "file_extension": ".py",
   "mimetype": "text/x-python",
   "name": "python",
   "nbconvert_exporter": "python",
   "pygments_lexer": "ipython3",
   "version": "3.11.4"
  }
 },
 "nbformat": 4,
 "nbformat_minor": 5
}
