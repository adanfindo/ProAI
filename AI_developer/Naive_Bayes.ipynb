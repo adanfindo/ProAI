{
 "cells": [
  {
   "cell_type": "markdown",
   "id": "5686d3d5",
   "metadata": {},
   "source": [
    "# Teoria"
   ]
  },
  {
   "cell_type": "markdown",
   "id": "51f75bdc",
   "metadata": {},
   "source": [
    "**Probabilità condizionata**"
   ]
  },
  {
   "cell_type": "markdown",
   "id": "fb200f62",
   "metadata": {},
   "source": [
    "misura della probabilità che un evento accada dato un altro evento già accaduto $P(B|A)$ probabilità che accada B dato A"
   ]
  },
  {
   "cell_type": "markdown",
   "id": "65b5ba0f",
   "metadata": {},
   "source": [
    "**Teorema di Bayes**"
   ]
  },
  {
   "cell_type": "markdown",
   "id": "5be44d42",
   "metadata": {},
   "source": [
    "$P(A|B) = \\frac{P(A \\bigcap B)}{P(B)} = \\frac{P(A)*P(B|A)}{P(B)}$ "
   ]
  },
  {
   "cell_type": "markdown",
   "id": "c17103d7",
   "metadata": {},
   "source": [
    "dove $P(A \\cap B)$ è la probabilità che avvengano entrambi"
   ]
  },
  {
   "cell_type": "markdown",
   "id": "33cc708d",
   "metadata": {},
   "source": [
    "**modelli e algoritmi naive bayes**"
   ]
  },
  {
   "cell_type": "markdown",
   "id": "294fbf8d",
   "metadata": {},
   "source": [
    "due importanti assunzioni su dati:\n",
    "- feature tra loro indipendenti\n",
    "- feature hanno tutte lo stesso peso"
   ]
  },
  {
   "cell_type": "markdown",
   "id": "a247fab7",
   "metadata": {},
   "source": [
    "$P(y|x_1,...,x_n)=\\frac{P(y)P(x_1,...,x_n)}{P(x_1,...,x_n)} = \\frac{P(y)P(x1|y)...P(x_n|y)}{P(x1)...P(x_n)} = \\frac{P(y)\\prod_{i=1}^n P(x_i|y)}{P(x1)...P(x_n)}$"
   ]
  },
  {
   "cell_type": "markdown",
   "id": "4b8fc9af",
   "metadata": {},
   "source": [
    "il denominatore è costante per qualunque valore di y, lo posso rimuovere usando il simbolo $\\propto$"
   ]
  },
  {
   "cell_type": "markdown",
   "id": "83ec078b",
   "metadata": {},
   "source": [
    "$P(y|x_1,...,x_n) \\propto P(y)\\prod_{i=1}^n P(x_i|y)$"
   ]
  },
  {
   "cell_type": "markdown",
   "id": "d31ccabe",
   "metadata": {},
   "source": [
    "Hai osservato in passato:\n",
    "\n",
    "La parola “gratis” compare spesso in email spam.\n",
    "\n",
    "La parola “ciao” compare più spesso nelle email normali.\n",
    "\n",
    "Ora arriva un’email con scritto:\n",
    "\n",
    "\"Ciao! Hai vinto un premio gratis!\"\n",
    "\n",
    "Il modello guarda le tre parole:\n",
    "ciao, vinto, gratis.\n",
    "\n",
    "E pensa:\n",
    "\n",
    "“Ciao” → di solito è in email non spam.\n",
    "\n",
    "“Gratis” → quasi sempre in email spam.\n",
    "\n",
    "“Vinto” → spesso in email spam.\n",
    "\n",
    "Allora conclude:\n",
    "\n",
    "\"Mmh... più probabilmente è spam, quindi la classifico così.\""
   ]
  },
  {
   "cell_type": "markdown",
   "id": "84979932",
   "metadata": {},
   "source": [
    "🧠 Perché si chiama Naive (ingenuo)?\n",
    "Perché fa finta che ogni parola sia indipendente dalle altre.\n",
    "Cioè pensa che il fatto che ci sia “gratis” non influenzi il fatto che ci sia anche “vinto”.\n",
    "\n",
    "Nella realtà questo non è vero, ma sorprendentemente... funziona lo stesso molto bene!"
   ]
  },
  {
   "cell_type": "markdown",
   "id": "cd46d9fa",
   "metadata": {},
   "source": [
    "**regola di classificazione** <br>\n",
    "$ y = \\argmax_y P(y) \\prod_{i=1}^n P(x_i|y)$"
   ]
  },
  {
   "cell_type": "markdown",
   "id": "b0c31558",
   "metadata": {},
   "source": [
    "- utilizzabile solo per dati discreti\n",
    "- tende all'overfitting (poiche si basa troppo su dati di training)"
   ]
  },
  {
   "cell_type": "markdown",
   "id": "15abf2e4",
   "metadata": {
    "vscode": {
     "languageId": "plaintext"
    }
   },
   "source": [
    "si fanno assunzioni su $P(x|y)$, i diversi algoritmi NB differiscono in questo"
   ]
  },
  {
   "cell_type": "markdown",
   "id": "cba69046",
   "metadata": {},
   "source": [
    "**Multinomial NB**"
   ]
  },
  {
   "cell_type": "markdown",
   "id": "d06e46f0",
   "metadata": {},
   "source": [
    "$P(x_i|y) = \\frac{N_{yi}+\\alpha}{N_y+\\alpha n}$"
   ]
  },
  {
   "cell_type": "markdown",
   "id": "97e0a351",
   "metadata": {},
   "source": [
    "valido per dati multinomiali\n"
   ]
  },
  {
   "cell_type": "markdown",
   "id": "6ff57408",
   "metadata": {},
   "source": []
  },
  {
   "cell_type": "markdown",
   "id": "e1484443",
   "metadata": {},
   "source": []
  },
  {
   "cell_type": "code",
   "execution_count": null,
   "id": "35b111cc",
   "metadata": {
    "vscode": {
     "languageId": "plaintext"
    }
   },
   "outputs": [],
   "source": []
  },
  {
   "cell_type": "code",
   "execution_count": null,
   "id": "1c8029a3",
   "metadata": {
    "vscode": {
     "languageId": "plaintext"
    }
   },
   "outputs": [],
   "source": []
  },
  {
   "cell_type": "markdown",
   "id": "5ccb2b82",
   "metadata": {},
   "source": []
  }
 ],
 "metadata": {
  "language_info": {
   "name": "python"
  }
 },
 "nbformat": 4,
 "nbformat_minor": 5
}
